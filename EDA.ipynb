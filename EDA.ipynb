{
 "cells": [
  {
   "cell_type": "markdown",
   "metadata": {},
   "source": [
    "# Import packages"
   ]
  },
  {
   "cell_type": "code",
   "execution_count": 1,
   "metadata": {},
   "outputs": [],
   "source": [
    "import pandas as pd\n",
    "import numpy as np\n",
    "import os\n",
    "\n",
    "# fastext\n",
    "import fasttext\n",
    "\n",
    "from text_cleaning_utils import TextCleaningUtils\n",
    "from sklearn.model_selection import train_test_split\n",
    "from fast_text import FastTextUtils\n",
    "\n",
    "from tabulate import tabulate\n",
    "\n",
    "from sklearn.metrics import confusion_matrix\n",
    "from sklearn.metrics import classification_report"
   ]
  },
  {
   "cell_type": "code",
   "execution_count": 2,
   "metadata": {},
   "outputs": [],
   "source": [
    "df = pd.read_csv('./data/train.csv')"
   ]
  },
  {
   "cell_type": "code",
   "execution_count": 3,
   "metadata": {},
   "outputs": [
    {
     "data": {
      "text/html": [
       "<div>\n",
       "<style scoped>\n",
       "    .dataframe tbody tr th:only-of-type {\n",
       "        vertical-align: middle;\n",
       "    }\n",
       "\n",
       "    .dataframe tbody tr th {\n",
       "        vertical-align: top;\n",
       "    }\n",
       "\n",
       "    .dataframe thead th {\n",
       "        text-align: right;\n",
       "    }\n",
       "</style>\n",
       "<table border=\"1\" class=\"dataframe\">\n",
       "  <thead>\n",
       "    <tr style=\"text-align: right;\">\n",
       "      <th></th>\n",
       "      <th>qid</th>\n",
       "      <th>question_text</th>\n",
       "      <th>target</th>\n",
       "    </tr>\n",
       "  </thead>\n",
       "  <tbody>\n",
       "    <tr>\n",
       "      <th>0</th>\n",
       "      <td>00002165364db923c7e6</td>\n",
       "      <td>How did Quebec nationalists see their province...</td>\n",
       "      <td>0</td>\n",
       "    </tr>\n",
       "    <tr>\n",
       "      <th>1</th>\n",
       "      <td>000032939017120e6e44</td>\n",
       "      <td>Do you have an adopted dog, how would you enco...</td>\n",
       "      <td>0</td>\n",
       "    </tr>\n",
       "    <tr>\n",
       "      <th>2</th>\n",
       "      <td>0000412ca6e4628ce2cf</td>\n",
       "      <td>Why does velocity affect time? Does velocity a...</td>\n",
       "      <td>0</td>\n",
       "    </tr>\n",
       "    <tr>\n",
       "      <th>3</th>\n",
       "      <td>000042bf85aa498cd78e</td>\n",
       "      <td>How did Otto von Guericke used the Magdeburg h...</td>\n",
       "      <td>0</td>\n",
       "    </tr>\n",
       "    <tr>\n",
       "      <th>4</th>\n",
       "      <td>0000455dfa3e01eae3af</td>\n",
       "      <td>Can I convert montra helicon D to a mountain b...</td>\n",
       "      <td>0</td>\n",
       "    </tr>\n",
       "  </tbody>\n",
       "</table>\n",
       "</div>"
      ],
      "text/plain": [
       "                    qid                                      question_text  \\\n",
       "0  00002165364db923c7e6  How did Quebec nationalists see their province...   \n",
       "1  000032939017120e6e44  Do you have an adopted dog, how would you enco...   \n",
       "2  0000412ca6e4628ce2cf  Why does velocity affect time? Does velocity a...   \n",
       "3  000042bf85aa498cd78e  How did Otto von Guericke used the Magdeburg h...   \n",
       "4  0000455dfa3e01eae3af  Can I convert montra helicon D to a mountain b...   \n",
       "\n",
       "   target  \n",
       "0       0  \n",
       "1       0  \n",
       "2       0  \n",
       "3       0  \n",
       "4       0  "
      ]
     },
     "execution_count": 3,
     "metadata": {},
     "output_type": "execute_result"
    }
   ],
   "source": [
    "df.head()"
   ]
  },
  {
   "cell_type": "code",
   "execution_count": 4,
   "metadata": {},
   "outputs": [
    {
     "data": {
      "text/html": [
       "<div>\n",
       "<style scoped>\n",
       "    .dataframe tbody tr th:only-of-type {\n",
       "        vertical-align: middle;\n",
       "    }\n",
       "\n",
       "    .dataframe tbody tr th {\n",
       "        vertical-align: top;\n",
       "    }\n",
       "\n",
       "    .dataframe thead th {\n",
       "        text-align: right;\n",
       "    }\n",
       "</style>\n",
       "<table border=\"1\" class=\"dataframe\">\n",
       "  <thead>\n",
       "    <tr style=\"text-align: right;\">\n",
       "      <th></th>\n",
       "      <th>qid</th>\n",
       "      <th>question_text</th>\n",
       "      <th>target</th>\n",
       "    </tr>\n",
       "  </thead>\n",
       "  <tbody>\n",
       "    <tr>\n",
       "      <th>22</th>\n",
       "      <td>0000e91571b60c2fb487</td>\n",
       "      <td>Has the United States become the largest dicta...</td>\n",
       "      <td>1</td>\n",
       "    </tr>\n",
       "    <tr>\n",
       "      <th>30</th>\n",
       "      <td>00013ceca3f624b09f42</td>\n",
       "      <td>Which babies are more sweeter to their parents...</td>\n",
       "      <td>1</td>\n",
       "    </tr>\n",
       "    <tr>\n",
       "      <th>110</th>\n",
       "      <td>0004a7fcb2bf73076489</td>\n",
       "      <td>If blacks support school choice and mandatory ...</td>\n",
       "      <td>1</td>\n",
       "    </tr>\n",
       "    <tr>\n",
       "      <th>114</th>\n",
       "      <td>00052793eaa287aff1e1</td>\n",
       "      <td>I am gay boy and I love my cousin (boy). He is...</td>\n",
       "      <td>1</td>\n",
       "    </tr>\n",
       "    <tr>\n",
       "      <th>115</th>\n",
       "      <td>000537213b01fd77b58a</td>\n",
       "      <td>Which races have the smallest penis?</td>\n",
       "      <td>1</td>\n",
       "    </tr>\n",
       "  </tbody>\n",
       "</table>\n",
       "</div>"
      ],
      "text/plain": [
       "                      qid                                      question_text  \\\n",
       "22   0000e91571b60c2fb487  Has the United States become the largest dicta...   \n",
       "30   00013ceca3f624b09f42  Which babies are more sweeter to their parents...   \n",
       "110  0004a7fcb2bf73076489  If blacks support school choice and mandatory ...   \n",
       "114  00052793eaa287aff1e1  I am gay boy and I love my cousin (boy). He is...   \n",
       "115  000537213b01fd77b58a               Which races have the smallest penis?   \n",
       "\n",
       "     target  \n",
       "22        1  \n",
       "30        1  \n",
       "110       1  \n",
       "114       1  \n",
       "115       1  "
      ]
     },
     "execution_count": 4,
     "metadata": {},
     "output_type": "execute_result"
    }
   ],
   "source": [
    "df[df['target'] == 1].head()"
   ]
  },
  {
   "cell_type": "code",
   "execution_count": 5,
   "metadata": {},
   "outputs": [
    {
     "data": {
      "text/plain": [
       "(1306122, 3)"
      ]
     },
     "execution_count": 5,
     "metadata": {},
     "output_type": "execute_result"
    }
   ],
   "source": [
    "df.shape"
   ]
  },
  {
   "cell_type": "markdown",
   "metadata": {},
   "source": [
    "# Text Cleaning"
   ]
  },
  {
   "cell_type": "code",
   "execution_count": 6,
   "metadata": {},
   "outputs": [],
   "source": [
    "def clean_data(df,col_to_clean):\n",
    "  df[col_to_clean] = df[col_to_clean].apply(TextCleaningUtils.replace_contractions)\n",
    "#   Remove Smiles and special chars\n",
    "#   df[col_to_clean] = df[col_to_clean].apply(TextCleaningUtils.transform_emojis)\n",
    "  df[col_to_clean] = df[col_to_clean].apply(TextCleaningUtils.remove_special_chars)\n",
    "  df[col_to_clean] = df[col_to_clean].apply(TextCleaningUtils.remove_redundant_spaces)\n",
    "  df[col_to_clean] = df[col_to_clean].apply(TextCleaningUtils.remove_punctuations)\n",
    "  df[col_to_clean] = df[col_to_clean].apply(TextCleaningUtils.remove_exaggerated_words)\n",
    "  df[col_to_clean] = df[col_to_clean].apply(TextCleaningUtils.remove_redundant_newlines)\n",
    "  df[col_to_clean] = df[col_to_clean].apply(TextCleaningUtils.remove_twitter_handles)\n",
    "  df[col_to_clean] = df[col_to_clean].apply(TextCleaningUtils.remove_web_links)\n",
    "#   df[col_to_clean] = df[col_to_clean].apply(TextCleaningUtils.replace_sign)\n",
    "  df[col_to_clean] = df[col_to_clean].astype(str)\n",
    "  df[col_to_clean] = df[col_to_clean].str.lower()\n",
    "  return df"
   ]
  },
  {
   "cell_type": "code",
   "execution_count": 7,
   "metadata": {},
   "outputs": [],
   "source": [
    "clean_df = clean_data(df,'question_text')"
   ]
  },
  {
   "cell_type": "code",
   "execution_count": 8,
   "metadata": {},
   "outputs": [],
   "source": [
    "clean_df.to_csv('./data/train_clean.csv',index=False,encoding='utf-8')"
   ]
  },
  {
   "cell_type": "code",
   "execution_count": 9,
   "metadata": {},
   "outputs": [
    {
     "data": {
      "text/plain": [
       "(1306122, 3)"
      ]
     },
     "execution_count": 9,
     "metadata": {},
     "output_type": "execute_result"
    }
   ],
   "source": [
    "clean_df.shape"
   ]
  },
  {
   "cell_type": "code",
   "execution_count": 10,
   "metadata": {},
   "outputs": [
    {
     "data": {
      "text/html": [
       "<div>\n",
       "<style scoped>\n",
       "    .dataframe tbody tr th:only-of-type {\n",
       "        vertical-align: middle;\n",
       "    }\n",
       "\n",
       "    .dataframe tbody tr th {\n",
       "        vertical-align: top;\n",
       "    }\n",
       "\n",
       "    .dataframe thead th {\n",
       "        text-align: right;\n",
       "    }\n",
       "</style>\n",
       "<table border=\"1\" class=\"dataframe\">\n",
       "  <thead>\n",
       "    <tr style=\"text-align: right;\">\n",
       "      <th></th>\n",
       "      <th>qid</th>\n",
       "      <th>question_text</th>\n",
       "      <th>target</th>\n",
       "    </tr>\n",
       "  </thead>\n",
       "  <tbody>\n",
       "    <tr>\n",
       "      <th>0</th>\n",
       "      <td>00002165364db923c7e6</td>\n",
       "      <td>how did quebec nationalists see their province...</td>\n",
       "      <td>0</td>\n",
       "    </tr>\n",
       "    <tr>\n",
       "      <th>1</th>\n",
       "      <td>000032939017120e6e44</td>\n",
       "      <td>do you have an adopted dog  how would you enco...</td>\n",
       "      <td>0</td>\n",
       "    </tr>\n",
       "    <tr>\n",
       "      <th>2</th>\n",
       "      <td>0000412ca6e4628ce2cf</td>\n",
       "      <td>why does velocity affect time  does velocity a...</td>\n",
       "      <td>0</td>\n",
       "    </tr>\n",
       "    <tr>\n",
       "      <th>3</th>\n",
       "      <td>000042bf85aa498cd78e</td>\n",
       "      <td>how did otto von guericke used the magdeburg h...</td>\n",
       "      <td>0</td>\n",
       "    </tr>\n",
       "    <tr>\n",
       "      <th>4</th>\n",
       "      <td>0000455dfa3e01eae3af</td>\n",
       "      <td>can i convert montra helicon d to a mountain b...</td>\n",
       "      <td>0</td>\n",
       "    </tr>\n",
       "  </tbody>\n",
       "</table>\n",
       "</div>"
      ],
      "text/plain": [
       "                    qid                                      question_text  \\\n",
       "0  00002165364db923c7e6  how did quebec nationalists see their province...   \n",
       "1  000032939017120e6e44  do you have an adopted dog  how would you enco...   \n",
       "2  0000412ca6e4628ce2cf  why does velocity affect time  does velocity a...   \n",
       "3  000042bf85aa498cd78e  how did otto von guericke used the magdeburg h...   \n",
       "4  0000455dfa3e01eae3af  can i convert montra helicon d to a mountain b...   \n",
       "\n",
       "   target  \n",
       "0       0  \n",
       "1       0  \n",
       "2       0  \n",
       "3       0  \n",
       "4       0  "
      ]
     },
     "execution_count": 10,
     "metadata": {},
     "output_type": "execute_result"
    }
   ],
   "source": [
    "clean_df.head()"
   ]
  },
  {
   "cell_type": "code",
   "execution_count": 11,
   "metadata": {},
   "outputs": [
    {
     "data": {
      "text/html": [
       "<div>\n",
       "<style scoped>\n",
       "    .dataframe tbody tr th:only-of-type {\n",
       "        vertical-align: middle;\n",
       "    }\n",
       "\n",
       "    .dataframe tbody tr th {\n",
       "        vertical-align: top;\n",
       "    }\n",
       "\n",
       "    .dataframe thead th {\n",
       "        text-align: right;\n",
       "    }\n",
       "</style>\n",
       "<table border=\"1\" class=\"dataframe\">\n",
       "  <thead>\n",
       "    <tr style=\"text-align: right;\">\n",
       "      <th></th>\n",
       "      <th>qid</th>\n",
       "      <th>question_text</th>\n",
       "      <th>target</th>\n",
       "    </tr>\n",
       "  </thead>\n",
       "  <tbody>\n",
       "    <tr>\n",
       "      <th>22</th>\n",
       "      <td>0000e91571b60c2fb487</td>\n",
       "      <td>has the united states become the largest dicta...</td>\n",
       "      <td>1</td>\n",
       "    </tr>\n",
       "    <tr>\n",
       "      <th>30</th>\n",
       "      <td>00013ceca3f624b09f42</td>\n",
       "      <td>which babies are more sweeter to their parents...</td>\n",
       "      <td>1</td>\n",
       "    </tr>\n",
       "    <tr>\n",
       "      <th>110</th>\n",
       "      <td>0004a7fcb2bf73076489</td>\n",
       "      <td>if blacks support school choice and mandatory ...</td>\n",
       "      <td>1</td>\n",
       "    </tr>\n",
       "    <tr>\n",
       "      <th>114</th>\n",
       "      <td>00052793eaa287aff1e1</td>\n",
       "      <td>i am gay boy and i love my cousin boy  he is s...</td>\n",
       "      <td>1</td>\n",
       "    </tr>\n",
       "    <tr>\n",
       "      <th>115</th>\n",
       "      <td>000537213b01fd77b58a</td>\n",
       "      <td>which races have the smallest penis</td>\n",
       "      <td>1</td>\n",
       "    </tr>\n",
       "  </tbody>\n",
       "</table>\n",
       "</div>"
      ],
      "text/plain": [
       "                      qid                                      question_text  \\\n",
       "22   0000e91571b60c2fb487  has the united states become the largest dicta...   \n",
       "30   00013ceca3f624b09f42  which babies are more sweeter to their parents...   \n",
       "110  0004a7fcb2bf73076489  if blacks support school choice and mandatory ...   \n",
       "114  00052793eaa287aff1e1  i am gay boy and i love my cousin boy  he is s...   \n",
       "115  000537213b01fd77b58a                which races have the smallest penis   \n",
       "\n",
       "     target  \n",
       "22        1  \n",
       "30        1  \n",
       "110       1  \n",
       "114       1  \n",
       "115       1  "
      ]
     },
     "execution_count": 11,
     "metadata": {},
     "output_type": "execute_result"
    }
   ],
   "source": [
    "clean_df[clean_df['target']== 1].head()"
   ]
  },
  {
   "cell_type": "code",
   "execution_count": 12,
   "metadata": {},
   "outputs": [],
   "source": [
    "map_={0:'__label__0',\n",
    "     1:'__label__1'}\n",
    "clean_df['label'] = clean_df['target'].map(map_)"
   ]
  },
  {
   "cell_type": "code",
   "execution_count": 13,
   "metadata": {},
   "outputs": [],
   "source": [
    "# train test split"
   ]
  },
  {
   "cell_type": "code",
   "execution_count": 14,
   "metadata": {},
   "outputs": [
    {
     "data": {
      "text/html": [
       "<div>\n",
       "<style scoped>\n",
       "    .dataframe tbody tr th:only-of-type {\n",
       "        vertical-align: middle;\n",
       "    }\n",
       "\n",
       "    .dataframe tbody tr th {\n",
       "        vertical-align: top;\n",
       "    }\n",
       "\n",
       "    .dataframe thead th {\n",
       "        text-align: right;\n",
       "    }\n",
       "</style>\n",
       "<table border=\"1\" class=\"dataframe\">\n",
       "  <thead>\n",
       "    <tr style=\"text-align: right;\">\n",
       "      <th></th>\n",
       "      <th>qid</th>\n",
       "      <th>question_text</th>\n",
       "      <th>target</th>\n",
       "      <th>label</th>\n",
       "    </tr>\n",
       "  </thead>\n",
       "  <tbody>\n",
       "    <tr>\n",
       "      <th>0</th>\n",
       "      <td>00002165364db923c7e6</td>\n",
       "      <td>how did quebec nationalists see their province...</td>\n",
       "      <td>0</td>\n",
       "      <td>__label__0</td>\n",
       "    </tr>\n",
       "    <tr>\n",
       "      <th>1</th>\n",
       "      <td>000032939017120e6e44</td>\n",
       "      <td>do you have an adopted dog  how would you enco...</td>\n",
       "      <td>0</td>\n",
       "      <td>__label__0</td>\n",
       "    </tr>\n",
       "    <tr>\n",
       "      <th>2</th>\n",
       "      <td>0000412ca6e4628ce2cf</td>\n",
       "      <td>why does velocity affect time  does velocity a...</td>\n",
       "      <td>0</td>\n",
       "      <td>__label__0</td>\n",
       "    </tr>\n",
       "    <tr>\n",
       "      <th>3</th>\n",
       "      <td>000042bf85aa498cd78e</td>\n",
       "      <td>how did otto von guericke used the magdeburg h...</td>\n",
       "      <td>0</td>\n",
       "      <td>__label__0</td>\n",
       "    </tr>\n",
       "    <tr>\n",
       "      <th>4</th>\n",
       "      <td>0000455dfa3e01eae3af</td>\n",
       "      <td>can i convert montra helicon d to a mountain b...</td>\n",
       "      <td>0</td>\n",
       "      <td>__label__0</td>\n",
       "    </tr>\n",
       "  </tbody>\n",
       "</table>\n",
       "</div>"
      ],
      "text/plain": [
       "                    qid                                      question_text  \\\n",
       "0  00002165364db923c7e6  how did quebec nationalists see their province...   \n",
       "1  000032939017120e6e44  do you have an adopted dog  how would you enco...   \n",
       "2  0000412ca6e4628ce2cf  why does velocity affect time  does velocity a...   \n",
       "3  000042bf85aa498cd78e  how did otto von guericke used the magdeburg h...   \n",
       "4  0000455dfa3e01eae3af  can i convert montra helicon d to a mountain b...   \n",
       "\n",
       "   target       label  \n",
       "0       0  __label__0  \n",
       "1       0  __label__0  \n",
       "2       0  __label__0  \n",
       "3       0  __label__0  \n",
       "4       0  __label__0  "
      ]
     },
     "execution_count": 14,
     "metadata": {},
     "output_type": "execute_result"
    }
   ],
   "source": [
    "clean_df.head()"
   ]
  },
  {
   "cell_type": "code",
   "execution_count": 15,
   "metadata": {},
   "outputs": [],
   "source": [
    "train_df, test_df = train_test_split(clean_df, random_state=50, stratify=clean_df['label'], test_size=0.1)"
   ]
  },
  {
   "cell_type": "code",
   "execution_count": 16,
   "metadata": {},
   "outputs": [
    {
     "data": {
      "text/plain": [
       "(1175509, 4)"
      ]
     },
     "execution_count": 16,
     "metadata": {},
     "output_type": "execute_result"
    }
   ],
   "source": [
    "train_df.shape"
   ]
  },
  {
   "cell_type": "code",
   "execution_count": 17,
   "metadata": {},
   "outputs": [
    {
     "data": {
      "text/plain": [
       "(130613, 4)"
      ]
     },
     "execution_count": 17,
     "metadata": {},
     "output_type": "execute_result"
    }
   ],
   "source": [
    "test_df.shape"
   ]
  },
  {
   "cell_type": "code",
   "execution_count": 18,
   "metadata": {},
   "outputs": [],
   "source": [
    "# train_df.to_csv()\n",
    "# test_df.to_csv()"
   ]
  },
  {
   "cell_type": "code",
   "execution_count": 19,
   "metadata": {},
   "outputs": [],
   "source": [
    "# analysis"
   ]
  },
  {
   "cell_type": "code",
   "execution_count": 20,
   "metadata": {},
   "outputs": [],
   "source": [
    "# convert csv to fwf format"
   ]
  },
  {
   "cell_type": "code",
   "execution_count": 21,
   "metadata": {},
   "outputs": [],
   "source": [
    "config={\n",
    "    'data_folder':'/Users/shishirkumar/shishirkmr/Git/data_science/Quora Insincere Questions Classification/Quora-Insincere-Questions-Classification/data/',\n",
    "    'training_csv_file':'train.csv',\n",
    "    'training_fwf_file':'train_fwf.train',\n",
    "    'model_folder': r'/Users/shishirkumar/jupyter_notebook/NLP/pretrained_models/',\n",
    "    'pretrained_model': 'wiki-news-300d-1M.vec',\n",
    "    'model_version': 'm1'\n",
    "}\n"
   ]
  },
  {
   "cell_type": "code",
   "execution_count": null,
   "metadata": {},
   "outputs": [],
   "source": []
  },
  {
   "cell_type": "code",
   "execution_count": 22,
   "metadata": {},
   "outputs": [],
   "source": [
    "def to_fwf(df, fname):\n",
    "    content = tabulate(df.values.tolist(), list(df.columns), tablefmt=\"plain\")\n",
    "    content = content[(content.find('\\n') + 1):]\n",
    "    open(fname, \"w\").write(content)\n",
    "pd.DataFrame.to_fwf = to_fwf"
   ]
  },
  {
   "cell_type": "code",
   "execution_count": 23,
   "metadata": {},
   "outputs": [],
   "source": [
    "train_df=train_df[['label','question_text']]"
   ]
  },
  {
   "cell_type": "code",
   "execution_count": 24,
   "metadata": {},
   "outputs": [
    {
     "data": {
      "text/html": [
       "<div>\n",
       "<style scoped>\n",
       "    .dataframe tbody tr th:only-of-type {\n",
       "        vertical-align: middle;\n",
       "    }\n",
       "\n",
       "    .dataframe tbody tr th {\n",
       "        vertical-align: top;\n",
       "    }\n",
       "\n",
       "    .dataframe thead th {\n",
       "        text-align: right;\n",
       "    }\n",
       "</style>\n",
       "<table border=\"1\" class=\"dataframe\">\n",
       "  <thead>\n",
       "    <tr style=\"text-align: right;\">\n",
       "      <th></th>\n",
       "      <th>label</th>\n",
       "      <th>question_text</th>\n",
       "    </tr>\n",
       "  </thead>\n",
       "  <tbody>\n",
       "    <tr>\n",
       "      <th>1278191</th>\n",
       "      <td>__label__0</td>\n",
       "      <td>what are the two electrodes in a conductivity ...</td>\n",
       "    </tr>\n",
       "    <tr>\n",
       "      <th>916255</th>\n",
       "      <td>__label__0</td>\n",
       "      <td>how do i figure out my marriage</td>\n",
       "    </tr>\n",
       "    <tr>\n",
       "      <th>1144328</th>\n",
       "      <td>__label__0</td>\n",
       "      <td>how do web developers collaborate between othe...</td>\n",
       "    </tr>\n",
       "    <tr>\n",
       "      <th>12107</th>\n",
       "      <td>__label__0</td>\n",
       "      <td>what rock tirumala venkateswara temple is built</td>\n",
       "    </tr>\n",
       "    <tr>\n",
       "      <th>431956</th>\n",
       "      <td>__label__0</td>\n",
       "      <td>is knowing too many people a good thing or a b...</td>\n",
       "    </tr>\n",
       "  </tbody>\n",
       "</table>\n",
       "</div>"
      ],
      "text/plain": [
       "              label                                      question_text\n",
       "1278191  __label__0  what are the two electrodes in a conductivity ...\n",
       "916255   __label__0                    how do i figure out my marriage\n",
       "1144328  __label__0  how do web developers collaborate between othe...\n",
       "12107    __label__0    what rock tirumala venkateswara temple is built\n",
       "431956   __label__0  is knowing too many people a good thing or a b..."
      ]
     },
     "execution_count": 24,
     "metadata": {},
     "output_type": "execute_result"
    }
   ],
   "source": [
    "train_df.head()"
   ]
  },
  {
   "cell_type": "code",
   "execution_count": 25,
   "metadata": {},
   "outputs": [
    {
     "data": {
      "text/plain": [
       "'/Users/shishirkumar/shishirkmr/Git/data_science/Quora Insincere Questions Classification/Quora-Insincere-Questions-Classification/data/train_fwf.train'"
      ]
     },
     "execution_count": 25,
     "metadata": {},
     "output_type": "execute_result"
    }
   ],
   "source": [
    "config['data_folder']+config['training_fwf_file']"
   ]
  },
  {
   "cell_type": "code",
   "execution_count": 26,
   "metadata": {},
   "outputs": [],
   "source": [
    "train_df.to_fwf(config['data_folder']+config['training_fwf_file'])"
   ]
  },
  {
   "cell_type": "code",
   "execution_count": 27,
   "metadata": {},
   "outputs": [],
   "source": [
    "train_fn = os.path.join(config['data_folder'], config['training_fwf_file'])"
   ]
  },
  {
   "cell_type": "code",
   "execution_count": 28,
   "metadata": {},
   "outputs": [],
   "source": [
    "pretrainedvec_fn = os.path.join(config['model_folder'], config['pretrained_model'])\n",
    "model_fn = os.path.join(config['data_folder'], 'models','{}_{}.bin'.format('qoura_question',config['model_version']))"
   ]
  },
  {
   "cell_type": "code",
   "execution_count": 29,
   "metadata": {},
   "outputs": [
    {
     "name": "stdout",
     "output_type": "stream",
     "text": [
      "train_fn:/Users/shishirkumar/shishirkmr/Git/data_science/Quora Insincere Questions Classification/Quora-Insincere-Questions-Classification/data/train_fwf.train \n",
      " model_fn:/Users/shishirkumar/shishirkmr/Git/data_science/Quora Insincere Questions Classification/Quora-Insincere-Questions-Classification/data/models/qoura_question_m1.bin \n",
      " pretrainedvec_fn:/Users/shishirkumar/jupyter_notebook/NLP/pretrained_models/wiki-news-300d-1M.vec\n"
     ]
    }
   ],
   "source": [
    "print('train_fn:{} \\n model_fn:{} \\n pretrainedvec_fn:{}'.format(train_fn,model_fn,pretrainedvec_fn))"
   ]
  },
  {
   "cell_type": "code",
   "execution_count": 30,
   "metadata": {},
   "outputs": [
    {
     "name": "stdout",
     "output_type": "stream",
     "text": [
      "CPU times: user 10min 31s, sys: 1min 38s, total: 12min 10s\n",
      "Wall time: 9min 39s\n"
     ]
    }
   ],
   "source": [
    "%%time\n",
    "model = fasttext.train_supervised(input=train_fn,\n",
    "                                  pretrainedVectors=pretrainedvec_fn,\n",
    "                                  dim=300, \n",
    "                                  wordNgrams=2, \n",
    "                                  minCount=3, \n",
    "                                  epoch=20)"
   ]
  },
  {
   "cell_type": "code",
   "execution_count": 31,
   "metadata": {},
   "outputs": [
    {
     "data": {
      "text/plain": [
       "'/Users/shishirkumar/shishirkmr/Git/data_science/Quora Insincere Questions Classification/Quora-Insincere-Questions-Classification/data/models/qoura_question_m1.bin'"
      ]
     },
     "execution_count": 31,
     "metadata": {},
     "output_type": "execute_result"
    }
   ],
   "source": [
    "model_fn"
   ]
  },
  {
   "cell_type": "code",
   "execution_count": 32,
   "metadata": {},
   "outputs": [],
   "source": [
    "model.save_model(model_fn)"
   ]
  },
  {
   "cell_type": "code",
   "execution_count": 33,
   "metadata": {},
   "outputs": [
    {
     "name": "stderr",
     "output_type": "stream",
     "text": [
      "/Library/Frameworks/Python.framework/Versions/3.7/lib/python3.7/site-packages/ipykernel_launcher.py:8: SettingWithCopyWarning: \n",
      "A value is trying to be set on a copy of a slice from a DataFrame.\n",
      "Try using .loc[row_indexer,col_indexer] = value instead\n",
      "\n",
      "See the caveats in the documentation: https://pandas.pydata.org/pandas-docs/stable/user_guide/indexing.html#returning-a-view-versus-a-copy\n",
      "  \n"
     ]
    }
   ],
   "source": [
    "def get_proba(x):\n",
    "    if x[0][0] == '__label__0':\n",
    "        return 1 - x[1][0] if x[1][0]<= 1 else 0\n",
    "    elif x[0][0] == '__label__1':\n",
    "        return x[1][0] if x[1][0]<= 1 else 1\n",
    "\n",
    "train_df['threshold'] = train_df['question_text'].apply(lambda x: get_proba(model.predict(x,k=2)))\n",
    "test_df['threshold'] = test_df['question_text'].apply(lambda x: get_proba(model.predict(x,k=2)))"
   ]
  },
  {
   "cell_type": "code",
   "execution_count": 34,
   "metadata": {},
   "outputs": [],
   "source": [
    "train_df['predict'] = train_df['question_text'].apply(lambda x: model.predict(x,k=1)[0][0])\n",
    "train_df['predict'] = train_df['predict'].apply(lambda x: int(x.replace('__label__','')))\n",
    "\n",
    "train_df['target'] = train_df['label'].apply(lambda x: int(x.replace('__label__','')))\n",
    "\n",
    "train_df['predict_proba'] = train_df['question_text'].apply(lambda x: model.predict(x,k=1)[1][0])"
   ]
  },
  {
   "cell_type": "code",
   "execution_count": 35,
   "metadata": {},
   "outputs": [
    {
     "data": {
      "text/html": [
       "<div>\n",
       "<style scoped>\n",
       "    .dataframe tbody tr th:only-of-type {\n",
       "        vertical-align: middle;\n",
       "    }\n",
       "\n",
       "    .dataframe tbody tr th {\n",
       "        vertical-align: top;\n",
       "    }\n",
       "\n",
       "    .dataframe thead th {\n",
       "        text-align: right;\n",
       "    }\n",
       "</style>\n",
       "<table border=\"1\" class=\"dataframe\">\n",
       "  <thead>\n",
       "    <tr style=\"text-align: right;\">\n",
       "      <th></th>\n",
       "      <th>label</th>\n",
       "      <th>question_text</th>\n",
       "      <th>threshold</th>\n",
       "      <th>predict</th>\n",
       "      <th>target</th>\n",
       "      <th>predict_proba</th>\n",
       "    </tr>\n",
       "  </thead>\n",
       "  <tbody>\n",
       "    <tr>\n",
       "      <th>1278191</th>\n",
       "      <td>__label__0</td>\n",
       "      <td>what are the two electrodes in a conductivity ...</td>\n",
       "      <td>0.000000</td>\n",
       "      <td>0</td>\n",
       "      <td>0</td>\n",
       "      <td>1.000010</td>\n",
       "    </tr>\n",
       "    <tr>\n",
       "      <th>916255</th>\n",
       "      <td>__label__0</td>\n",
       "      <td>how do i figure out my marriage</td>\n",
       "      <td>0.000000</td>\n",
       "      <td>0</td>\n",
       "      <td>0</td>\n",
       "      <td>1.000010</td>\n",
       "    </tr>\n",
       "    <tr>\n",
       "      <th>1144328</th>\n",
       "      <td>__label__0</td>\n",
       "      <td>how do web developers collaborate between othe...</td>\n",
       "      <td>0.000000</td>\n",
       "      <td>0</td>\n",
       "      <td>0</td>\n",
       "      <td>1.000010</td>\n",
       "    </tr>\n",
       "    <tr>\n",
       "      <th>12107</th>\n",
       "      <td>__label__0</td>\n",
       "      <td>what rock tirumala venkateswara temple is built</td>\n",
       "      <td>0.000000</td>\n",
       "      <td>0</td>\n",
       "      <td>0</td>\n",
       "      <td>1.000010</td>\n",
       "    </tr>\n",
       "    <tr>\n",
       "      <th>431956</th>\n",
       "      <td>__label__0</td>\n",
       "      <td>is knowing too many people a good thing or a b...</td>\n",
       "      <td>0.000095</td>\n",
       "      <td>0</td>\n",
       "      <td>0</td>\n",
       "      <td>0.999905</td>\n",
       "    </tr>\n",
       "  </tbody>\n",
       "</table>\n",
       "</div>"
      ],
      "text/plain": [
       "              label                                      question_text  \\\n",
       "1278191  __label__0  what are the two electrodes in a conductivity ...   \n",
       "916255   __label__0                    how do i figure out my marriage   \n",
       "1144328  __label__0  how do web developers collaborate between othe...   \n",
       "12107    __label__0    what rock tirumala venkateswara temple is built   \n",
       "431956   __label__0  is knowing too many people a good thing or a b...   \n",
       "\n",
       "         threshold  predict  target  predict_proba  \n",
       "1278191   0.000000        0       0       1.000010  \n",
       "916255    0.000000        0       0       1.000010  \n",
       "1144328   0.000000        0       0       1.000010  \n",
       "12107     0.000000        0       0       1.000010  \n",
       "431956    0.000095        0       0       0.999905  "
      ]
     },
     "execution_count": 35,
     "metadata": {},
     "output_type": "execute_result"
    }
   ],
   "source": [
    "train_df.head()"
   ]
  },
  {
   "cell_type": "code",
   "execution_count": 36,
   "metadata": {},
   "outputs": [
    {
     "data": {
      "text/html": [
       "<div>\n",
       "<style scoped>\n",
       "    .dataframe tbody tr th:only-of-type {\n",
       "        vertical-align: middle;\n",
       "    }\n",
       "\n",
       "    .dataframe tbody tr th {\n",
       "        vertical-align: top;\n",
       "    }\n",
       "\n",
       "    .dataframe thead th {\n",
       "        text-align: right;\n",
       "    }\n",
       "</style>\n",
       "<table border=\"1\" class=\"dataframe\">\n",
       "  <thead>\n",
       "    <tr style=\"text-align: right;\">\n",
       "      <th></th>\n",
       "      <th>label</th>\n",
       "      <th>question_text</th>\n",
       "      <th>threshold</th>\n",
       "      <th>predict</th>\n",
       "      <th>target</th>\n",
       "      <th>predict_proba</th>\n",
       "    </tr>\n",
       "  </thead>\n",
       "  <tbody>\n",
       "    <tr>\n",
       "      <th>110399</th>\n",
       "      <td>__label__1</td>\n",
       "      <td>i am 13 and in love with a gay 30 year old ent...</td>\n",
       "      <td>0.982347</td>\n",
       "      <td>1</td>\n",
       "      <td>1</td>\n",
       "      <td>0.982347</td>\n",
       "    </tr>\n",
       "    <tr>\n",
       "      <th>489651</th>\n",
       "      <td>__label__1</td>\n",
       "      <td>what do white women who have black biracial ch...</td>\n",
       "      <td>0.998977</td>\n",
       "      <td>1</td>\n",
       "      <td>1</td>\n",
       "      <td>0.998977</td>\n",
       "    </tr>\n",
       "    <tr>\n",
       "      <th>932411</th>\n",
       "      <td>__label__1</td>\n",
       "      <td>if your direct superiors are cunts and everyon...</td>\n",
       "      <td>1.000000</td>\n",
       "      <td>1</td>\n",
       "      <td>1</td>\n",
       "      <td>1.000004</td>\n",
       "    </tr>\n",
       "    <tr>\n",
       "      <th>543656</th>\n",
       "      <td>__label__1</td>\n",
       "      <td>why do indonesian bureaucratics pretend as if ...</td>\n",
       "      <td>0.999535</td>\n",
       "      <td>1</td>\n",
       "      <td>1</td>\n",
       "      <td>0.999535</td>\n",
       "    </tr>\n",
       "    <tr>\n",
       "      <th>614054</th>\n",
       "      <td>__label__1</td>\n",
       "      <td>do you honestly feel bad that fadi al batsh is...</td>\n",
       "      <td>0.908907</td>\n",
       "      <td>1</td>\n",
       "      <td>1</td>\n",
       "      <td>0.908907</td>\n",
       "    </tr>\n",
       "  </tbody>\n",
       "</table>\n",
       "</div>"
      ],
      "text/plain": [
       "             label                                      question_text  \\\n",
       "110399  __label__1  i am 13 and in love with a gay 30 year old ent...   \n",
       "489651  __label__1  what do white women who have black biracial ch...   \n",
       "932411  __label__1  if your direct superiors are cunts and everyon...   \n",
       "543656  __label__1  why do indonesian bureaucratics pretend as if ...   \n",
       "614054  __label__1  do you honestly feel bad that fadi al batsh is...   \n",
       "\n",
       "        threshold  predict  target  predict_proba  \n",
       "110399   0.982347        1       1       0.982347  \n",
       "489651   0.998977        1       1       0.998977  \n",
       "932411   1.000000        1       1       1.000004  \n",
       "543656   0.999535        1       1       0.999535  \n",
       "614054   0.908907        1       1       0.908907  "
      ]
     },
     "execution_count": 36,
     "metadata": {},
     "output_type": "execute_result"
    }
   ],
   "source": [
    "train_df[train_df['label']=='__label__1'].head()"
   ]
  },
  {
   "cell_type": "code",
   "execution_count": 37,
   "metadata": {},
   "outputs": [
    {
     "data": {
      "text/plain": [
       "array([[1102577,     203],\n",
       "       [    305,   72424]])"
      ]
     },
     "execution_count": 37,
     "metadata": {},
     "output_type": "execute_result"
    }
   ],
   "source": [
    "# from sklearn.metrics import confusion_matrix\n",
    "confusion_matrix(train_df['target'],train_df['predict'])"
   ]
  },
  {
   "cell_type": "code",
   "execution_count": 38,
   "metadata": {},
   "outputs": [
    {
     "name": "stdout",
     "output_type": "stream",
     "text": [
      "              precision    recall  f1-score   support\n",
      "\n",
      "           0       1.00      1.00      1.00   1102780\n",
      "           1       1.00      1.00      1.00     72729\n",
      "\n",
      "    accuracy                           1.00   1175509\n",
      "   macro avg       1.00      1.00      1.00   1175509\n",
      "weighted avg       1.00      1.00      1.00   1175509\n",
      "\n"
     ]
    }
   ],
   "source": [
    "print(classification_report(train_df['target'],train_df['predict']))"
   ]
  },
  {
   "cell_type": "code",
   "execution_count": 39,
   "metadata": {},
   "outputs": [
    {
     "name": "stderr",
     "output_type": "stream",
     "text": [
      "/Library/Frameworks/Python.framework/Versions/3.7/lib/python3.7/site-packages/ipykernel_launcher.py:1: SettingWithCopyWarning: \n",
      "A value is trying to be set on a copy of a slice from a DataFrame.\n",
      "Try using .loc[row_indexer,col_indexer] = value instead\n",
      "\n",
      "See the caveats in the documentation: https://pandas.pydata.org/pandas-docs/stable/user_guide/indexing.html#returning-a-view-versus-a-copy\n",
      "  \"\"\"Entry point for launching an IPython kernel.\n",
      "/Library/Frameworks/Python.framework/Versions/3.7/lib/python3.7/site-packages/ipykernel_launcher.py:2: SettingWithCopyWarning: \n",
      "A value is trying to be set on a copy of a slice from a DataFrame.\n",
      "Try using .loc[row_indexer,col_indexer] = value instead\n",
      "\n",
      "See the caveats in the documentation: https://pandas.pydata.org/pandas-docs/stable/user_guide/indexing.html#returning-a-view-versus-a-copy\n",
      "  \n",
      "/Library/Frameworks/Python.framework/Versions/3.7/lib/python3.7/site-packages/ipykernel_launcher.py:3: SettingWithCopyWarning: \n",
      "A value is trying to be set on a copy of a slice from a DataFrame.\n",
      "Try using .loc[row_indexer,col_indexer] = value instead\n",
      "\n",
      "See the caveats in the documentation: https://pandas.pydata.org/pandas-docs/stable/user_guide/indexing.html#returning-a-view-versus-a-copy\n",
      "  This is separate from the ipykernel package so we can avoid doing imports until\n"
     ]
    }
   ],
   "source": [
    "test_df['predict'] = test_df['question_text'].apply(lambda x: model.predict(x,k=1)[0][0])\n",
    "test_df['predict'] = test_df['predict'].apply(lambda x: int(x.replace('__label__','')))\n",
    "test_df['predict_proba'] = test_df['question_text'].apply(lambda x: model.predict(x,k=1)[1][0])"
   ]
  },
  {
   "cell_type": "code",
   "execution_count": 40,
   "metadata": {},
   "outputs": [
    {
     "data": {
      "text/plain": [
       "924580    ((__label__0, __label__1), [1.0000085830688477...\n",
       "296391    ((__label__0, __label__1), [0.5619279742240906...\n",
       "91343     ((__label__0, __label__1), [1.0000100135803223...\n",
       "458059    ((__label__0, __label__1), [1.0000100135803223...\n",
       "418878    ((__label__0, __label__1), [1.0000079870224, 1...\n",
       "                                ...                        \n",
       "749454    ((__label__1, __label__0), [0.8427378535270691...\n",
       "852935    ((__label__0, __label__1), [1.0000100135803223...\n",
       "739588    ((__label__1, __label__0), [0.5999968647956848...\n",
       "518169    ((__label__0, __label__1), [0.9996997117996216...\n",
       "511456    ((__label__0, __label__1), [1.0000100135803223...\n",
       "Name: question_text, Length: 130613, dtype: object"
      ]
     },
     "execution_count": 40,
     "metadata": {},
     "output_type": "execute_result"
    }
   ],
   "source": [
    "test_df['question_text'].apply(lambda x: model.predict(x,k=2))"
   ]
  },
  {
   "cell_type": "code",
   "execution_count": 41,
   "metadata": {},
   "outputs": [
    {
     "data": {
      "text/html": [
       "<div>\n",
       "<style scoped>\n",
       "    .dataframe tbody tr th:only-of-type {\n",
       "        vertical-align: middle;\n",
       "    }\n",
       "\n",
       "    .dataframe tbody tr th {\n",
       "        vertical-align: top;\n",
       "    }\n",
       "\n",
       "    .dataframe thead th {\n",
       "        text-align: right;\n",
       "    }\n",
       "</style>\n",
       "<table border=\"1\" class=\"dataframe\">\n",
       "  <thead>\n",
       "    <tr style=\"text-align: right;\">\n",
       "      <th></th>\n",
       "      <th>qid</th>\n",
       "      <th>question_text</th>\n",
       "      <th>target</th>\n",
       "      <th>label</th>\n",
       "      <th>threshold</th>\n",
       "      <th>predict</th>\n",
       "      <th>predict_proba</th>\n",
       "    </tr>\n",
       "  </thead>\n",
       "  <tbody>\n",
       "    <tr>\n",
       "      <th>924580</th>\n",
       "      <td>b5319e7bb7604c95d91b</td>\n",
       "      <td>how do i deal with the concept of keeping face...</td>\n",
       "      <td>0</td>\n",
       "      <td>__label__0</td>\n",
       "      <td>0.000000</td>\n",
       "      <td>0</td>\n",
       "      <td>1.000009</td>\n",
       "    </tr>\n",
       "    <tr>\n",
       "      <th>296391</th>\n",
       "      <td>3a078ec81646dd3d5e42</td>\n",
       "      <td>my favorite pasttime is picking up girls  list...</td>\n",
       "      <td>1</td>\n",
       "      <td>__label__1</td>\n",
       "      <td>0.438072</td>\n",
       "      <td>0</td>\n",
       "      <td>0.561928</td>\n",
       "    </tr>\n",
       "    <tr>\n",
       "      <th>91343</th>\n",
       "      <td>11e50b883166438d0073</td>\n",
       "      <td>would japan participate in a second korean war</td>\n",
       "      <td>0</td>\n",
       "      <td>__label__0</td>\n",
       "      <td>0.000000</td>\n",
       "      <td>0</td>\n",
       "      <td>1.000010</td>\n",
       "    </tr>\n",
       "    <tr>\n",
       "      <th>458059</th>\n",
       "      <td>59b8701b429384850ecc</td>\n",
       "      <td>did not both religions stem from babylon</td>\n",
       "      <td>0</td>\n",
       "      <td>__label__0</td>\n",
       "      <td>0.000000</td>\n",
       "      <td>0</td>\n",
       "      <td>1.000010</td>\n",
       "    </tr>\n",
       "    <tr>\n",
       "      <th>418878</th>\n",
       "      <td>521776d1936d316af387</td>\n",
       "      <td>what would have happened to india if sardar pa...</td>\n",
       "      <td>0</td>\n",
       "      <td>__label__0</td>\n",
       "      <td>0.000000</td>\n",
       "      <td>0</td>\n",
       "      <td>1.000008</td>\n",
       "    </tr>\n",
       "  </tbody>\n",
       "</table>\n",
       "</div>"
      ],
      "text/plain": [
       "                         qid  \\\n",
       "924580  b5319e7bb7604c95d91b   \n",
       "296391  3a078ec81646dd3d5e42   \n",
       "91343   11e50b883166438d0073   \n",
       "458059  59b8701b429384850ecc   \n",
       "418878  521776d1936d316af387   \n",
       "\n",
       "                                            question_text  target       label  \\\n",
       "924580  how do i deal with the concept of keeping face...       0  __label__0   \n",
       "296391  my favorite pasttime is picking up girls  list...       1  __label__1   \n",
       "91343      would japan participate in a second korean war       0  __label__0   \n",
       "458059           did not both religions stem from babylon       0  __label__0   \n",
       "418878  what would have happened to india if sardar pa...       0  __label__0   \n",
       "\n",
       "        threshold  predict  predict_proba  \n",
       "924580   0.000000        0       1.000009  \n",
       "296391   0.438072        0       0.561928  \n",
       "91343    0.000000        0       1.000010  \n",
       "458059   0.000000        0       1.000010  \n",
       "418878   0.000000        0       1.000008  "
      ]
     },
     "execution_count": 41,
     "metadata": {},
     "output_type": "execute_result"
    }
   ],
   "source": [
    "test_df.head()"
   ]
  },
  {
   "cell_type": "code",
   "execution_count": 42,
   "metadata": {},
   "outputs": [
    {
     "data": {
      "text/plain": [
       "array([[119852,   2680],\n",
       "       [  3907,   4174]])"
      ]
     },
     "execution_count": 42,
     "metadata": {},
     "output_type": "execute_result"
    }
   ],
   "source": [
    "from sklearn.metrics import confusion_matrix\n",
    "confusion_matrix(test_df['target'],test_df['predict'])"
   ]
  },
  {
   "cell_type": "code",
   "execution_count": 43,
   "metadata": {},
   "outputs": [
    {
     "name": "stdout",
     "output_type": "stream",
     "text": [
      "              precision    recall  f1-score   support\n",
      "\n",
      "           0       0.97      0.98      0.97    122532\n",
      "           1       0.61      0.52      0.56      8081\n",
      "\n",
      "    accuracy                           0.95    130613\n",
      "   macro avg       0.79      0.75      0.77    130613\n",
      "weighted avg       0.95      0.95      0.95    130613\n",
      "\n"
     ]
    }
   ],
   "source": [
    "from sklearn.metrics import classification_report\n",
    "print(classification_report(test_df['target'],test_df['predict']))"
   ]
  },
  {
   "cell_type": "code",
   "execution_count": 44,
   "metadata": {},
   "outputs": [
    {
     "data": {
      "text/html": [
       "<div>\n",
       "<style scoped>\n",
       "    .dataframe tbody tr th:only-of-type {\n",
       "        vertical-align: middle;\n",
       "    }\n",
       "\n",
       "    .dataframe tbody tr th {\n",
       "        vertical-align: top;\n",
       "    }\n",
       "\n",
       "    .dataframe thead th {\n",
       "        text-align: right;\n",
       "    }\n",
       "</style>\n",
       "<table border=\"1\" class=\"dataframe\">\n",
       "  <thead>\n",
       "    <tr style=\"text-align: right;\">\n",
       "      <th></th>\n",
       "      <th>qid</th>\n",
       "      <th>question_text</th>\n",
       "      <th>target</th>\n",
       "      <th>label</th>\n",
       "      <th>threshold</th>\n",
       "      <th>predict</th>\n",
       "      <th>predict_proba</th>\n",
       "    </tr>\n",
       "  </thead>\n",
       "  <tbody>\n",
       "    <tr>\n",
       "      <th>1216883</th>\n",
       "      <td>ee7e9740af314518a13e</td>\n",
       "      <td>what did japanese soldiers think about black a...</td>\n",
       "      <td>0</td>\n",
       "      <td>__label__0</td>\n",
       "      <td>0.568897</td>\n",
       "      <td>1</td>\n",
       "      <td>0.568897</td>\n",
       "    </tr>\n",
       "    <tr>\n",
       "      <th>32990</th>\n",
       "      <td>0676086e8676e60b736c</td>\n",
       "      <td>so who among all this sites is the real deal a...</td>\n",
       "      <td>0</td>\n",
       "      <td>__label__0</td>\n",
       "      <td>0.853455</td>\n",
       "      <td>1</td>\n",
       "      <td>0.853455</td>\n",
       "    </tr>\n",
       "    <tr>\n",
       "      <th>451911</th>\n",
       "      <td>5883dc89682b39cbe7f9</td>\n",
       "      <td>what is the lastest innovation that elon musk ...</td>\n",
       "      <td>0</td>\n",
       "      <td>__label__0</td>\n",
       "      <td>0.507689</td>\n",
       "      <td>1</td>\n",
       "      <td>0.507689</td>\n",
       "    </tr>\n",
       "    <tr>\n",
       "      <th>952764</th>\n",
       "      <td>bab087a865acf5794b49</td>\n",
       "      <td>despite being under muslim rule for centuries ...</td>\n",
       "      <td>0</td>\n",
       "      <td>__label__0</td>\n",
       "      <td>0.998692</td>\n",
       "      <td>1</td>\n",
       "      <td>0.998692</td>\n",
       "    </tr>\n",
       "    <tr>\n",
       "      <th>12805</th>\n",
       "      <td>028590327d4d45fd2e99</td>\n",
       "      <td>why india s left leaning media supports pakist...</td>\n",
       "      <td>0</td>\n",
       "      <td>__label__0</td>\n",
       "      <td>0.999990</td>\n",
       "      <td>1</td>\n",
       "      <td>0.999990</td>\n",
       "    </tr>\n",
       "    <tr>\n",
       "      <th>...</th>\n",
       "      <td>...</td>\n",
       "      <td>...</td>\n",
       "      <td>...</td>\n",
       "      <td>...</td>\n",
       "      <td>...</td>\n",
       "      <td>...</td>\n",
       "      <td>...</td>\n",
       "    </tr>\n",
       "    <tr>\n",
       "      <th>1058037</th>\n",
       "      <td>cf522500d60d56ccd55c</td>\n",
       "      <td>why can i feel comfortable with enjoying the a...</td>\n",
       "      <td>0</td>\n",
       "      <td>__label__0</td>\n",
       "      <td>0.803214</td>\n",
       "      <td>1</td>\n",
       "      <td>0.803214</td>\n",
       "    </tr>\n",
       "    <tr>\n",
       "      <th>799380</th>\n",
       "      <td>9ca285a88333184301c2</td>\n",
       "      <td>why did china occupy tibet  why did they occup...</td>\n",
       "      <td>0</td>\n",
       "      <td>__label__0</td>\n",
       "      <td>0.999943</td>\n",
       "      <td>1</td>\n",
       "      <td>0.999943</td>\n",
       "    </tr>\n",
       "    <tr>\n",
       "      <th>499618</th>\n",
       "      <td>61d04b186bf5751047d8</td>\n",
       "      <td>how do non punjabis in india feel about overre...</td>\n",
       "      <td>0</td>\n",
       "      <td>__label__0</td>\n",
       "      <td>0.986989</td>\n",
       "      <td>1</td>\n",
       "      <td>0.986989</td>\n",
       "    </tr>\n",
       "    <tr>\n",
       "      <th>1228357</th>\n",
       "      <td>f0b8881ac41c41bcc2d7</td>\n",
       "      <td>can a botched circumcision surgery be remedied...</td>\n",
       "      <td>0</td>\n",
       "      <td>__label__0</td>\n",
       "      <td>0.853060</td>\n",
       "      <td>1</td>\n",
       "      <td>0.853060</td>\n",
       "    </tr>\n",
       "    <tr>\n",
       "      <th>739588</th>\n",
       "      <td>90da44041915eadb3233</td>\n",
       "      <td>is it true that even if bitches fall seven tim...</td>\n",
       "      <td>0</td>\n",
       "      <td>__label__0</td>\n",
       "      <td>0.599997</td>\n",
       "      <td>1</td>\n",
       "      <td>0.599997</td>\n",
       "    </tr>\n",
       "  </tbody>\n",
       "</table>\n",
       "<p>2680 rows × 7 columns</p>\n",
       "</div>"
      ],
      "text/plain": [
       "                          qid  \\\n",
       "1216883  ee7e9740af314518a13e   \n",
       "32990    0676086e8676e60b736c   \n",
       "451911   5883dc89682b39cbe7f9   \n",
       "952764   bab087a865acf5794b49   \n",
       "12805    028590327d4d45fd2e99   \n",
       "...                       ...   \n",
       "1058037  cf522500d60d56ccd55c   \n",
       "799380   9ca285a88333184301c2   \n",
       "499618   61d04b186bf5751047d8   \n",
       "1228357  f0b8881ac41c41bcc2d7   \n",
       "739588   90da44041915eadb3233   \n",
       "\n",
       "                                             question_text  target  \\\n",
       "1216883  what did japanese soldiers think about black a...       0   \n",
       "32990    so who among all this sites is the real deal a...       0   \n",
       "451911   what is the lastest innovation that elon musk ...       0   \n",
       "952764   despite being under muslim rule for centuries ...       0   \n",
       "12805    why india s left leaning media supports pakist...       0   \n",
       "...                                                    ...     ...   \n",
       "1058037  why can i feel comfortable with enjoying the a...       0   \n",
       "799380   why did china occupy tibet  why did they occup...       0   \n",
       "499618   how do non punjabis in india feel about overre...       0   \n",
       "1228357  can a botched circumcision surgery be remedied...       0   \n",
       "739588   is it true that even if bitches fall seven tim...       0   \n",
       "\n",
       "              label  threshold  predict  predict_proba  \n",
       "1216883  __label__0   0.568897        1       0.568897  \n",
       "32990    __label__0   0.853455        1       0.853455  \n",
       "451911   __label__0   0.507689        1       0.507689  \n",
       "952764   __label__0   0.998692        1       0.998692  \n",
       "12805    __label__0   0.999990        1       0.999990  \n",
       "...             ...        ...      ...            ...  \n",
       "1058037  __label__0   0.803214        1       0.803214  \n",
       "799380   __label__0   0.999943        1       0.999943  \n",
       "499618   __label__0   0.986989        1       0.986989  \n",
       "1228357  __label__0   0.853060        1       0.853060  \n",
       "739588   __label__0   0.599997        1       0.599997  \n",
       "\n",
       "[2680 rows x 7 columns]"
      ]
     },
     "execution_count": 44,
     "metadata": {},
     "output_type": "execute_result"
    }
   ],
   "source": [
    "test_df[(test_df['target']==0) & (test_df['predict']==1)]"
   ]
  },
  {
   "cell_type": "code",
   "execution_count": 45,
   "metadata": {},
   "outputs": [
    {
     "data": {
      "text/plain": [
       "(('__label__0', '__label__1'), array([1.00001001e+00, 1.00000034e-05]))"
      ]
     },
     "execution_count": 45,
     "metadata": {},
     "output_type": "execute_result"
    }
   ],
   "source": [
    "model.predict('how to get admission?',k=2)"
   ]
  },
  {
   "cell_type": "code",
   "execution_count": 46,
   "metadata": {},
   "outputs": [
    {
     "data": {
      "text/plain": [
       "(('__label__0', '__label__1'), array([9.99358594e-01, 6.61406666e-04]))"
      ]
     },
     "execution_count": 46,
     "metadata": {},
     "output_type": "execute_result"
    }
   ],
   "source": [
    "model.predict('why did men always think about sex',k=2)"
   ]
  },
  {
   "cell_type": "code",
   "execution_count": 47,
   "metadata": {},
   "outputs": [
    {
     "data": {
      "text/plain": [
       "(('__label__0', '__label__1'), array([1.00000989e+00, 1.00648331e-05]))"
      ]
     },
     "execution_count": 47,
     "metadata": {},
     "output_type": "execute_result"
    }
   ],
   "source": [
    "model.predict('why did china occupy tibet',k=2)"
   ]
  },
  {
   "cell_type": "code",
   "execution_count": 48,
   "metadata": {},
   "outputs": [],
   "source": [
    "# threshold optimization"
   ]
  },
  {
   "cell_type": "code",
   "execution_count": 49,
   "metadata": {},
   "outputs": [
    {
     "name": "stdout",
     "output_type": "stream",
     "text": [
      "      prob  accuracy     sensi     speci\n",
      "0.00  0.00  0.061870  1.000000  0.000000\n",
      "0.02  0.02  0.932847  0.710679  0.947499\n",
      "0.04  0.04  0.937801  0.677639  0.954959\n",
      "0.06  0.06  0.940389  0.656231  0.959129\n",
      "0.08  0.08  0.942088  0.639649  0.962034\n"
     ]
    }
   ],
   "source": [
    "cutoff_df = pd.DataFrame( columns = ['prob','accuracy','sensi','speci'])\n",
    "from sklearn.metrics import confusion_matrix\n",
    "\n",
    "# confusion = confusion_matrix(test_df['target'],test_df['predict'])\n",
    "\n",
    "# TP = confusion[1,1] # true positive \n",
    "# TN = confusion[0,0] # true negatives\n",
    "# FP = confusion[0,1] # false positives\n",
    "# FN = confusion[1,0] # false negatives\n",
    "\n",
    "def threshold_optimization(y,num):\n",
    "    #pass the prediction_probability series and threshold probabilty cutoff\n",
    "    y_bool= y.apply(lambda x: 1 if x>=num else 0)\n",
    "    return y_bool\n",
    "\n",
    "num = np.arange(0, 1, 0.02)\n",
    "for i in num:\n",
    "    cm1 = confusion_matrix(test_df['target'],threshold_optimization(test_df['threshold'],i))\n",
    "    total1=sum(sum(cm1))\n",
    "    accuracy = (cm1[0,0]+cm1[1,1])/total1\n",
    "    \n",
    "    speci = cm1[0,0]/(cm1[0,0]+cm1[0,1])\n",
    "    sensi = cm1[1,1]/(cm1[1,0]+cm1[1,1])\n",
    "    cutoff_df.loc[i] =[ i ,accuracy,sensi,speci]\n",
    "print(cutoff_df.head())"
   ]
  },
  {
   "cell_type": "code",
   "execution_count": 50,
   "metadata": {},
   "outputs": [
    {
     "name": "stdout",
     "output_type": "stream",
     "text": [
      "      prob  accuracy     sensi     speci\n",
      "0.00  0.00  0.061870  1.000000  0.000000\n",
      "0.02  0.02  0.932847  0.710679  0.947499\n",
      "0.04  0.04  0.937801  0.677639  0.954959\n",
      "0.06  0.06  0.940389  0.656231  0.959129\n",
      "0.08  0.08  0.942088  0.639649  0.962034\n",
      "0.10  0.10  0.943214  0.627769  0.964018\n",
      "0.12  0.12  0.943964  0.617003  0.965527\n",
      "0.14  0.14  0.944776  0.608217  0.966972\n",
      "0.16  0.16  0.945457  0.600668  0.968196\n",
      "0.18  0.18  0.946108  0.593862  0.969339\n"
     ]
    }
   ],
   "source": [
    "print(cutoff_df.head(10))"
   ]
  },
  {
   "cell_type": "code",
   "execution_count": 51,
   "metadata": {},
   "outputs": [
    {
     "data": {
      "text/html": [
       "<div>\n",
       "<style scoped>\n",
       "    .dataframe tbody tr th:only-of-type {\n",
       "        vertical-align: middle;\n",
       "    }\n",
       "\n",
       "    .dataframe tbody tr th {\n",
       "        vertical-align: top;\n",
       "    }\n",
       "\n",
       "    .dataframe thead th {\n",
       "        text-align: right;\n",
       "    }\n",
       "</style>\n",
       "<table border=\"1\" class=\"dataframe\">\n",
       "  <thead>\n",
       "    <tr style=\"text-align: right;\">\n",
       "      <th></th>\n",
       "      <th>prob</th>\n",
       "      <th>accuracy</th>\n",
       "      <th>sensi</th>\n",
       "      <th>speci</th>\n",
       "    </tr>\n",
       "  </thead>\n",
       "  <tbody>\n",
       "    <tr>\n",
       "      <th>0.90</th>\n",
       "      <td>0.90</td>\n",
       "      <td>0.951138</td>\n",
       "      <td>0.401683</td>\n",
       "      <td>0.987375</td>\n",
       "    </tr>\n",
       "    <tr>\n",
       "      <th>0.92</th>\n",
       "      <td>0.92</td>\n",
       "      <td>0.950870</td>\n",
       "      <td>0.388318</td>\n",
       "      <td>0.987970</td>\n",
       "    </tr>\n",
       "    <tr>\n",
       "      <th>0.94</th>\n",
       "      <td>0.94</td>\n",
       "      <td>0.950732</td>\n",
       "      <td>0.372231</td>\n",
       "      <td>0.988885</td>\n",
       "    </tr>\n",
       "    <tr>\n",
       "      <th>0.96</th>\n",
       "      <td>0.96</td>\n",
       "      <td>0.950411</td>\n",
       "      <td>0.348843</td>\n",
       "      <td>0.990084</td>\n",
       "    </tr>\n",
       "    <tr>\n",
       "      <th>0.98</th>\n",
       "      <td>0.98</td>\n",
       "      <td>0.949722</td>\n",
       "      <td>0.315555</td>\n",
       "      <td>0.991545</td>\n",
       "    </tr>\n",
       "  </tbody>\n",
       "</table>\n",
       "</div>"
      ],
      "text/plain": [
       "      prob  accuracy     sensi     speci\n",
       "0.90  0.90  0.951138  0.401683  0.987375\n",
       "0.92  0.92  0.950870  0.388318  0.987970\n",
       "0.94  0.94  0.950732  0.372231  0.988885\n",
       "0.96  0.96  0.950411  0.348843  0.990084\n",
       "0.98  0.98  0.949722  0.315555  0.991545"
      ]
     },
     "execution_count": 51,
     "metadata": {},
     "output_type": "execute_result"
    }
   ],
   "source": [
    "cutoff_df.tail()"
   ]
  },
  {
   "cell_type": "code",
   "execution_count": 52,
   "metadata": {},
   "outputs": [
    {
     "data": {
      "text/plain": [
       "<Figure size 640x480 with 1 Axes>"
      ]
     },
     "metadata": {},
     "output_type": "display_data"
    }
   ],
   "source": [
    "import matplotlib.pyplot as plt\n",
    "cutoff_df.plot.line(x='prob', y=['accuracy','sensi','speci'])\n",
    "plt.show()"
   ]
  },
  {
   "cell_type": "code",
   "execution_count": 53,
   "metadata": {},
   "outputs": [
    {
     "name": "stderr",
     "output_type": "stream",
     "text": [
      "/Library/Frameworks/Python.framework/Versions/3.7/lib/python3.7/site-packages/ipykernel_launcher.py:2: SettingWithCopyWarning: \n",
      "A value is trying to be set on a copy of a slice from a DataFrame.\n",
      "Try using .loc[row_indexer,col_indexer] = value instead\n",
      "\n",
      "See the caveats in the documentation: https://pandas.pydata.org/pandas-docs/stable/user_guide/indexing.html#returning-a-view-versus-a-copy\n",
      "  \n"
     ]
    }
   ],
   "source": [
    "train_df['predict_threshold'] = train_df['threshold'].apply(lambda x: 0 if x <=0.02 else 1 )\n",
    "test_df['predict_threshold'] = test_df['threshold'].apply(lambda x: 0 if x <=0.02 else 1)"
   ]
  },
  {
   "cell_type": "code",
   "execution_count": 54,
   "metadata": {},
   "outputs": [
    {
     "data": {
      "text/plain": [
       "array([[1084847,   17933],\n",
       "       [     48,   72681]])"
      ]
     },
     "execution_count": 54,
     "metadata": {},
     "output_type": "execute_result"
    }
   ],
   "source": [
    "confusion_matrix(train_df['target'],train_df['predict_threshold'])"
   ]
  },
  {
   "cell_type": "code",
   "execution_count": 55,
   "metadata": {},
   "outputs": [
    {
     "name": "stdout",
     "output_type": "stream",
     "text": [
      "              precision    recall  f1-score   support\n",
      "\n",
      "           0       1.00      0.98      0.99   1102780\n",
      "           1       0.80      1.00      0.89     72729\n",
      "\n",
      "    accuracy                           0.98   1175509\n",
      "   macro avg       0.90      0.99      0.94   1175509\n",
      "weighted avg       0.99      0.98      0.99   1175509\n",
      "\n"
     ]
    }
   ],
   "source": [
    "print(classification_report(train_df['target'],train_df['predict_threshold']))"
   ]
  },
  {
   "cell_type": "code",
   "execution_count": 56,
   "metadata": {},
   "outputs": [
    {
     "name": "stdout",
     "output_type": "stream",
     "text": [
      "              precision    recall  f1-score   support\n",
      "\n",
      "           0       0.98      0.95      0.96    122532\n",
      "           1       0.47      0.71      0.57      8081\n",
      "\n",
      "    accuracy                           0.93    130613\n",
      "   macro avg       0.73      0.83      0.77    130613\n",
      "weighted avg       0.95      0.93      0.94    130613\n",
      "\n"
     ]
    }
   ],
   "source": [
    "print(classification_report(test_df['target'],test_df['predict_threshold']))"
   ]
  },
  {
   "cell_type": "code",
   "execution_count": 57,
   "metadata": {},
   "outputs": [],
   "source": [
    "# f1_score(y_test_label, y_pred_temp)"
   ]
  },
  {
   "cell_type": "code",
   "execution_count": 58,
   "metadata": {},
   "outputs": [],
   "source": [
    "# from sklearn.preprocessing import Binarizer\n",
    "# from sklearn.metrics import f1_score\n",
    "# for label in [1,0]:\n",
    "#     y_test_label = train_df['target']\n",
    "#     thresholds = np.arange(0.02, 1, 0.02)\n",
    "#     t_opt = 0\n",
    "#     score_max = 0\n",
    "#     for t in thresholds:\n",
    "#         y_pred_temp = Binarizer(t).fit_transform(train_df[label].values.reshape(-1,1)) \n",
    "#         score = f1_score(y_test_label, y_pred_temp)  # f1 score\n",
    "#         if (score > score_max) & (confusion_matrix(y_test_label, y_pred_temp)[0, 0] > 0) & (confusion_matrix(y_test_label, y_pred_temp)[1, 1] > 0):\n",
    "#             score_max = score\n",
    "#             t_opt = t\n",
    "#     print(\"Class: \", label, \"\\t Threshold: \", t_opt)"
   ]
  },
  {
   "cell_type": "code",
   "execution_count": 59,
   "metadata": {},
   "outputs": [],
   "source": [
    "# import numpy as np\n",
    "# np.arange(0.02, 1, 0.02)"
   ]
  },
  {
   "cell_type": "code",
   "execution_count": null,
   "metadata": {},
   "outputs": [],
   "source": []
  }
 ],
 "metadata": {
  "kernelspec": {
   "display_name": "Python 3",
   "language": "python",
   "name": "python3"
  },
  "language_info": {
   "codemirror_mode": {
    "name": "ipython",
    "version": 3
   },
   "file_extension": ".py",
   "mimetype": "text/x-python",
   "name": "python",
   "nbconvert_exporter": "python",
   "pygments_lexer": "ipython3",
   "version": "3.7.3"
  }
 },
 "nbformat": 4,
 "nbformat_minor": 4
}

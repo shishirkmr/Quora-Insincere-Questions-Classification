{
 "cells": [
  {
   "cell_type": "markdown",
   "metadata": {},
   "source": [
    "# Import packages"
   ]
  },
  {
   "cell_type": "code",
   "execution_count": 57,
   "metadata": {},
   "outputs": [],
   "source": [
    "import pandas as pd\n",
    "import os\n",
    "\n",
    "# fastext\n",
    "import fasttext\n",
    "\n",
    "from text_cleaning_utils import TextCleaningUtils\n",
    "from sklearn.model_selection import train_test_split\n",
    "from fast_text import FastTextUtils\n",
    "\n",
    "from tabulate import tabulate"
   ]
  },
  {
   "cell_type": "code",
   "execution_count": 58,
   "metadata": {},
   "outputs": [],
   "source": [
    "df = pd.read_csv('./data/train.csv')"
   ]
  },
  {
   "cell_type": "code",
   "execution_count": 59,
   "metadata": {},
   "outputs": [
    {
     "data": {
      "text/html": [
       "<div>\n",
       "<style scoped>\n",
       "    .dataframe tbody tr th:only-of-type {\n",
       "        vertical-align: middle;\n",
       "    }\n",
       "\n",
       "    .dataframe tbody tr th {\n",
       "        vertical-align: top;\n",
       "    }\n",
       "\n",
       "    .dataframe thead th {\n",
       "        text-align: right;\n",
       "    }\n",
       "</style>\n",
       "<table border=\"1\" class=\"dataframe\">\n",
       "  <thead>\n",
       "    <tr style=\"text-align: right;\">\n",
       "      <th></th>\n",
       "      <th>qid</th>\n",
       "      <th>question_text</th>\n",
       "      <th>target</th>\n",
       "    </tr>\n",
       "  </thead>\n",
       "  <tbody>\n",
       "    <tr>\n",
       "      <th>0</th>\n",
       "      <td>00002165364db923c7e6</td>\n",
       "      <td>How did Quebec nationalists see their province...</td>\n",
       "      <td>0</td>\n",
       "    </tr>\n",
       "    <tr>\n",
       "      <th>1</th>\n",
       "      <td>000032939017120e6e44</td>\n",
       "      <td>Do you have an adopted dog, how would you enco...</td>\n",
       "      <td>0</td>\n",
       "    </tr>\n",
       "    <tr>\n",
       "      <th>2</th>\n",
       "      <td>0000412ca6e4628ce2cf</td>\n",
       "      <td>Why does velocity affect time? Does velocity a...</td>\n",
       "      <td>0</td>\n",
       "    </tr>\n",
       "    <tr>\n",
       "      <th>3</th>\n",
       "      <td>000042bf85aa498cd78e</td>\n",
       "      <td>How did Otto von Guericke used the Magdeburg h...</td>\n",
       "      <td>0</td>\n",
       "    </tr>\n",
       "    <tr>\n",
       "      <th>4</th>\n",
       "      <td>0000455dfa3e01eae3af</td>\n",
       "      <td>Can I convert montra helicon D to a mountain b...</td>\n",
       "      <td>0</td>\n",
       "    </tr>\n",
       "  </tbody>\n",
       "</table>\n",
       "</div>"
      ],
      "text/plain": [
       "                    qid                                      question_text  \\\n",
       "0  00002165364db923c7e6  How did Quebec nationalists see their province...   \n",
       "1  000032939017120e6e44  Do you have an adopted dog, how would you enco...   \n",
       "2  0000412ca6e4628ce2cf  Why does velocity affect time? Does velocity a...   \n",
       "3  000042bf85aa498cd78e  How did Otto von Guericke used the Magdeburg h...   \n",
       "4  0000455dfa3e01eae3af  Can I convert montra helicon D to a mountain b...   \n",
       "\n",
       "   target  \n",
       "0       0  \n",
       "1       0  \n",
       "2       0  \n",
       "3       0  \n",
       "4       0  "
      ]
     },
     "execution_count": 59,
     "metadata": {},
     "output_type": "execute_result"
    }
   ],
   "source": [
    "df.head()"
   ]
  },
  {
   "cell_type": "code",
   "execution_count": 60,
   "metadata": {},
   "outputs": [
    {
     "data": {
      "text/html": [
       "<div>\n",
       "<style scoped>\n",
       "    .dataframe tbody tr th:only-of-type {\n",
       "        vertical-align: middle;\n",
       "    }\n",
       "\n",
       "    .dataframe tbody tr th {\n",
       "        vertical-align: top;\n",
       "    }\n",
       "\n",
       "    .dataframe thead th {\n",
       "        text-align: right;\n",
       "    }\n",
       "</style>\n",
       "<table border=\"1\" class=\"dataframe\">\n",
       "  <thead>\n",
       "    <tr style=\"text-align: right;\">\n",
       "      <th></th>\n",
       "      <th>qid</th>\n",
       "      <th>question_text</th>\n",
       "      <th>target</th>\n",
       "    </tr>\n",
       "  </thead>\n",
       "  <tbody>\n",
       "    <tr>\n",
       "      <th>22</th>\n",
       "      <td>0000e91571b60c2fb487</td>\n",
       "      <td>Has the United States become the largest dicta...</td>\n",
       "      <td>1</td>\n",
       "    </tr>\n",
       "    <tr>\n",
       "      <th>30</th>\n",
       "      <td>00013ceca3f624b09f42</td>\n",
       "      <td>Which babies are more sweeter to their parents...</td>\n",
       "      <td>1</td>\n",
       "    </tr>\n",
       "    <tr>\n",
       "      <th>110</th>\n",
       "      <td>0004a7fcb2bf73076489</td>\n",
       "      <td>If blacks support school choice and mandatory ...</td>\n",
       "      <td>1</td>\n",
       "    </tr>\n",
       "    <tr>\n",
       "      <th>114</th>\n",
       "      <td>00052793eaa287aff1e1</td>\n",
       "      <td>I am gay boy and I love my cousin (boy). He is...</td>\n",
       "      <td>1</td>\n",
       "    </tr>\n",
       "    <tr>\n",
       "      <th>115</th>\n",
       "      <td>000537213b01fd77b58a</td>\n",
       "      <td>Which races have the smallest penis?</td>\n",
       "      <td>1</td>\n",
       "    </tr>\n",
       "  </tbody>\n",
       "</table>\n",
       "</div>"
      ],
      "text/plain": [
       "                      qid                                      question_text  \\\n",
       "22   0000e91571b60c2fb487  Has the United States become the largest dicta...   \n",
       "30   00013ceca3f624b09f42  Which babies are more sweeter to their parents...   \n",
       "110  0004a7fcb2bf73076489  If blacks support school choice and mandatory ...   \n",
       "114  00052793eaa287aff1e1  I am gay boy and I love my cousin (boy). He is...   \n",
       "115  000537213b01fd77b58a               Which races have the smallest penis?   \n",
       "\n",
       "     target  \n",
       "22        1  \n",
       "30        1  \n",
       "110       1  \n",
       "114       1  \n",
       "115       1  "
      ]
     },
     "execution_count": 60,
     "metadata": {},
     "output_type": "execute_result"
    }
   ],
   "source": [
    "df[df['target'] == 1].head()"
   ]
  },
  {
   "cell_type": "code",
   "execution_count": 61,
   "metadata": {},
   "outputs": [
    {
     "data": {
      "text/plain": [
       "(1306122, 3)"
      ]
     },
     "execution_count": 61,
     "metadata": {},
     "output_type": "execute_result"
    }
   ],
   "source": [
    "df.shape"
   ]
  },
  {
   "cell_type": "markdown",
   "metadata": {},
   "source": [
    "# Text Cleaning"
   ]
  },
  {
   "cell_type": "code",
   "execution_count": 40,
   "metadata": {},
   "outputs": [],
   "source": [
    "def clean_data(df,col_to_clean):\n",
    "  df[col_to_clean] = df[col_to_clean].apply(TextCleaningUtils.replace_contractions)\n",
    "#   Remove Smiles and special chars\n",
    "#   df[col_to_clean] = df[col_to_clean].apply(TextCleaningUtils.transform_emojis)\n",
    "  df[col_to_clean] = df[col_to_clean].apply(TextCleaningUtils.remove_special_chars)\n",
    "  df[col_to_clean] = df[col_to_clean].apply(TextCleaningUtils.remove_redundant_spaces)\n",
    "  df[col_to_clean] = df[col_to_clean].apply(TextCleaningUtils.remove_punctuations)\n",
    "  df[col_to_clean] = df[col_to_clean].apply(TextCleaningUtils.remove_exaggerated_words)\n",
    "  df[col_to_clean] = df[col_to_clean].apply(TextCleaningUtils.remove_redundant_newlines)\n",
    "  df[col_to_clean] = df[col_to_clean].apply(TextCleaningUtils.remove_twitter_handles)\n",
    "  df[col_to_clean] = df[col_to_clean].apply(TextCleaningUtils.remove_web_links)\n",
    "#   df[col_to_clean] = df[col_to_clean].apply(TextCleaningUtils.replace_sign)\n",
    "  df[col_to_clean] = df[col_to_clean].astype(str)\n",
    "  df[col_to_clean] = df[col_to_clean].str.lower()\n",
    "  return df"
   ]
  },
  {
   "cell_type": "code",
   "execution_count": 10,
   "metadata": {},
   "outputs": [],
   "source": [
    "clean_df = clean_data(df,'question_text')"
   ]
  },
  {
   "cell_type": "code",
   "execution_count": 13,
   "metadata": {},
   "outputs": [],
   "source": [
    "clean_df.to_csv('./data/train_clean.csv',index=False,encoding='utf-8')"
   ]
  },
  {
   "cell_type": "code",
   "execution_count": 11,
   "metadata": {},
   "outputs": [
    {
     "data": {
      "text/plain": [
       "(1306122, 3)"
      ]
     },
     "execution_count": 11,
     "metadata": {},
     "output_type": "execute_result"
    }
   ],
   "source": [
    "clean_df.shape"
   ]
  },
  {
   "cell_type": "code",
   "execution_count": 54,
   "metadata": {},
   "outputs": [
    {
     "data": {
      "text/html": [
       "<div>\n",
       "<style scoped>\n",
       "    .dataframe tbody tr th:only-of-type {\n",
       "        vertical-align: middle;\n",
       "    }\n",
       "\n",
       "    .dataframe tbody tr th {\n",
       "        vertical-align: top;\n",
       "    }\n",
       "\n",
       "    .dataframe thead th {\n",
       "        text-align: right;\n",
       "    }\n",
       "</style>\n",
       "<table border=\"1\" class=\"dataframe\">\n",
       "  <thead>\n",
       "    <tr style=\"text-align: right;\">\n",
       "      <th></th>\n",
       "      <th>qid</th>\n",
       "      <th>question_text</th>\n",
       "      <th>target</th>\n",
       "      <th>label</th>\n",
       "    </tr>\n",
       "  </thead>\n",
       "  <tbody>\n",
       "    <tr>\n",
       "      <th>0</th>\n",
       "      <td>00002165364db923c7e6</td>\n",
       "      <td>How did Quebec nationalists see their province...</td>\n",
       "      <td>0</td>\n",
       "      <td>__label__0</td>\n",
       "    </tr>\n",
       "    <tr>\n",
       "      <th>1</th>\n",
       "      <td>000032939017120e6e44</td>\n",
       "      <td>Do you have an adopted dog  how would you enco...</td>\n",
       "      <td>0</td>\n",
       "      <td>__label__0</td>\n",
       "    </tr>\n",
       "    <tr>\n",
       "      <th>2</th>\n",
       "      <td>0000412ca6e4628ce2cf</td>\n",
       "      <td>Why does velocity affect time  Does velocity a...</td>\n",
       "      <td>0</td>\n",
       "      <td>__label__0</td>\n",
       "    </tr>\n",
       "    <tr>\n",
       "      <th>3</th>\n",
       "      <td>000042bf85aa498cd78e</td>\n",
       "      <td>How did Otto von Guericke used the Magdeburg h...</td>\n",
       "      <td>0</td>\n",
       "      <td>__label__0</td>\n",
       "    </tr>\n",
       "    <tr>\n",
       "      <th>4</th>\n",
       "      <td>0000455dfa3e01eae3af</td>\n",
       "      <td>Can I convert montra helicon D to a mountain b...</td>\n",
       "      <td>0</td>\n",
       "      <td>__label__0</td>\n",
       "    </tr>\n",
       "  </tbody>\n",
       "</table>\n",
       "</div>"
      ],
      "text/plain": [
       "                    qid                                      question_text  \\\n",
       "0  00002165364db923c7e6  How did Quebec nationalists see their province...   \n",
       "1  000032939017120e6e44  Do you have an adopted dog  how would you enco...   \n",
       "2  0000412ca6e4628ce2cf  Why does velocity affect time  Does velocity a...   \n",
       "3  000042bf85aa498cd78e  How did Otto von Guericke used the Magdeburg h...   \n",
       "4  0000455dfa3e01eae3af  Can I convert montra helicon D to a mountain b...   \n",
       "\n",
       "   target       label  \n",
       "0       0  __label__0  \n",
       "1       0  __label__0  \n",
       "2       0  __label__0  \n",
       "3       0  __label__0  \n",
       "4       0  __label__0  "
      ]
     },
     "execution_count": 54,
     "metadata": {},
     "output_type": "execute_result"
    }
   ],
   "source": [
    "clean_df.head()"
   ]
  },
  {
   "cell_type": "code",
   "execution_count": 56,
   "metadata": {},
   "outputs": [
    {
     "data": {
      "text/html": [
       "<div>\n",
       "<style scoped>\n",
       "    .dataframe tbody tr th:only-of-type {\n",
       "        vertical-align: middle;\n",
       "    }\n",
       "\n",
       "    .dataframe tbody tr th {\n",
       "        vertical-align: top;\n",
       "    }\n",
       "\n",
       "    .dataframe thead th {\n",
       "        text-align: right;\n",
       "    }\n",
       "</style>\n",
       "<table border=\"1\" class=\"dataframe\">\n",
       "  <thead>\n",
       "    <tr style=\"text-align: right;\">\n",
       "      <th></th>\n",
       "      <th>qid</th>\n",
       "      <th>question_text</th>\n",
       "      <th>target</th>\n",
       "      <th>label</th>\n",
       "    </tr>\n",
       "  </thead>\n",
       "  <tbody>\n",
       "    <tr>\n",
       "      <th>22</th>\n",
       "      <td>0000e91571b60c2fb487</td>\n",
       "      <td>Has the United States become the largest dicta...</td>\n",
       "      <td>1</td>\n",
       "      <td>__label__1</td>\n",
       "    </tr>\n",
       "    <tr>\n",
       "      <th>30</th>\n",
       "      <td>00013ceca3f624b09f42</td>\n",
       "      <td>Which babies are more sweeter to their parents...</td>\n",
       "      <td>1</td>\n",
       "      <td>__label__1</td>\n",
       "    </tr>\n",
       "    <tr>\n",
       "      <th>110</th>\n",
       "      <td>0004a7fcb2bf73076489</td>\n",
       "      <td>If blacks support school choice and mandatory ...</td>\n",
       "      <td>1</td>\n",
       "      <td>__label__1</td>\n",
       "    </tr>\n",
       "    <tr>\n",
       "      <th>114</th>\n",
       "      <td>00052793eaa287aff1e1</td>\n",
       "      <td>I am gay boy and I love my cousin boy  He is s...</td>\n",
       "      <td>1</td>\n",
       "      <td>__label__1</td>\n",
       "    </tr>\n",
       "    <tr>\n",
       "      <th>115</th>\n",
       "      <td>000537213b01fd77b58a</td>\n",
       "      <td>Which races have the smallest penis</td>\n",
       "      <td>1</td>\n",
       "      <td>__label__1</td>\n",
       "    </tr>\n",
       "  </tbody>\n",
       "</table>\n",
       "</div>"
      ],
      "text/plain": [
       "                      qid                                      question_text  \\\n",
       "22   0000e91571b60c2fb487  Has the United States become the largest dicta...   \n",
       "30   00013ceca3f624b09f42  Which babies are more sweeter to their parents...   \n",
       "110  0004a7fcb2bf73076489  If blacks support school choice and mandatory ...   \n",
       "114  00052793eaa287aff1e1  I am gay boy and I love my cousin boy  He is s...   \n",
       "115  000537213b01fd77b58a                Which races have the smallest penis   \n",
       "\n",
       "     target       label  \n",
       "22        1  __label__1  \n",
       "30        1  __label__1  \n",
       "110       1  __label__1  \n",
       "114       1  __label__1  \n",
       "115       1  __label__1  "
      ]
     },
     "execution_count": 56,
     "metadata": {},
     "output_type": "execute_result"
    }
   ],
   "source": [
    "clean_df[clean_df['target']== 1].head()"
   ]
  },
  {
   "cell_type": "code",
   "execution_count": 53,
   "metadata": {},
   "outputs": [],
   "source": [
    "map_={0:'__label__0',\n",
    "     1:'__label__1'}\n",
    "clean_df['label'] = clean_df['target'].map(map_)"
   ]
  },
  {
   "cell_type": "code",
   "execution_count": 13,
   "metadata": {},
   "outputs": [],
   "source": [
    "# train test split"
   ]
  },
  {
   "cell_type": "code",
   "execution_count": 75,
   "metadata": {},
   "outputs": [],
   "source": [
    "train_df, test_df = train_test_split(clean_df, random_state=50, stratify='label', test_size=0.1)"
   ]
  },
  {
   "cell_type": "code",
   "execution_count": 76,
   "metadata": {},
   "outputs": [
    {
     "data": {
      "text/plain": [
       "(1110203, 4)"
      ]
     },
     "execution_count": 76,
     "metadata": {},
     "output_type": "execute_result"
    }
   ],
   "source": [
    "train_df.shape"
   ]
  },
  {
   "cell_type": "code",
   "execution_count": 77,
   "metadata": {},
   "outputs": [
    {
     "data": {
      "text/plain": [
       "(195919, 4)"
      ]
     },
     "execution_count": 77,
     "metadata": {},
     "output_type": "execute_result"
    }
   ],
   "source": [
    "test_df.shape"
   ]
  },
  {
   "cell_type": "code",
   "execution_count": 78,
   "metadata": {},
   "outputs": [],
   "source": [
    "# train_df.to_csv()\n",
    "# test_df.to_csv()"
   ]
  },
  {
   "cell_type": "code",
   "execution_count": 79,
   "metadata": {},
   "outputs": [],
   "source": [
    "# analysis"
   ]
  },
  {
   "cell_type": "code",
   "execution_count": 81,
   "metadata": {},
   "outputs": [],
   "source": [
    "# convert csv to fwf format"
   ]
  },
  {
   "cell_type": "code",
   "execution_count": 82,
   "metadata": {},
   "outputs": [],
   "source": [
    "config={\n",
    "    'data_folder':'/Users/shishirkumar/shishirkmr/Git/data_science/Quora Insincere Questions Classification/Quora-Insincere-Questions-Classification/data/',\n",
    "    'training_csv_file':'train.csv',\n",
    "    'training_fwf_file':'train_fwf.train',\n",
    "    'model_folder': r'/Users/shishirkumar/jupyter_notebook/NLP/pretrained_models/',\n",
    "    'pretrained_model': 'wiki-news-300d-1M.vec',\n",
    "    'model_version': 'm1'\n",
    "}\n"
   ]
  },
  {
   "cell_type": "code",
   "execution_count": null,
   "metadata": {},
   "outputs": [],
   "source": []
  },
  {
   "cell_type": "code",
   "execution_count": 83,
   "metadata": {},
   "outputs": [],
   "source": [
    "def to_fwf(df, fname):\n",
    "    content = tabulate(df.values.tolist(), list(df.columns), tablefmt=\"plain\")\n",
    "    content = content[(content.find('\\n') + 1):]\n",
    "    open(fname, \"w\").write(content)\n",
    "pd.DataFrame.to_fwf = to_fwf"
   ]
  },
  {
   "cell_type": "code",
   "execution_count": 84,
   "metadata": {},
   "outputs": [],
   "source": [
    "train_df=train_df[['label','question_text']]"
   ]
  },
  {
   "cell_type": "code",
   "execution_count": 85,
   "metadata": {},
   "outputs": [
    {
     "data": {
      "text/html": [
       "<div>\n",
       "<style scoped>\n",
       "    .dataframe tbody tr th:only-of-type {\n",
       "        vertical-align: middle;\n",
       "    }\n",
       "\n",
       "    .dataframe tbody tr th {\n",
       "        vertical-align: top;\n",
       "    }\n",
       "\n",
       "    .dataframe thead th {\n",
       "        text-align: right;\n",
       "    }\n",
       "</style>\n",
       "<table border=\"1\" class=\"dataframe\">\n",
       "  <thead>\n",
       "    <tr style=\"text-align: right;\">\n",
       "      <th></th>\n",
       "      <th>label</th>\n",
       "      <th>question_text</th>\n",
       "    </tr>\n",
       "  </thead>\n",
       "  <tbody>\n",
       "    <tr>\n",
       "      <th>1075204</th>\n",
       "      <td>__label__0</td>\n",
       "      <td>What were the major accomplishments by Larry F...</td>\n",
       "    </tr>\n",
       "    <tr>\n",
       "      <th>407385</th>\n",
       "      <td>__label__0</td>\n",
       "      <td>Why should have Hitler waited to start the war</td>\n",
       "    </tr>\n",
       "    <tr>\n",
       "      <th>944423</th>\n",
       "      <td>__label__0</td>\n",
       "      <td>How does blood provide oxygen to the body</td>\n",
       "    </tr>\n",
       "    <tr>\n",
       "      <th>271094</th>\n",
       "      <td>__label__0</td>\n",
       "      <td>Are the Microsoft Virtual Academy certificates...</td>\n",
       "    </tr>\n",
       "    <tr>\n",
       "      <th>1156712</th>\n",
       "      <td>__label__0</td>\n",
       "      <td>Why I always postpone important work to anothe...</td>\n",
       "    </tr>\n",
       "  </tbody>\n",
       "</table>\n",
       "</div>"
      ],
      "text/plain": [
       "              label                                      question_text\n",
       "1075204  __label__0  What were the major accomplishments by Larry F...\n",
       "407385   __label__0     Why should have Hitler waited to start the war\n",
       "944423   __label__0          How does blood provide oxygen to the body\n",
       "271094   __label__0  Are the Microsoft Virtual Academy certificates...\n",
       "1156712  __label__0  Why I always postpone important work to anothe..."
      ]
     },
     "execution_count": 85,
     "metadata": {},
     "output_type": "execute_result"
    }
   ],
   "source": [
    "train_df.head()"
   ]
  },
  {
   "cell_type": "code",
   "execution_count": 86,
   "metadata": {},
   "outputs": [
    {
     "data": {
      "text/plain": [
       "'/Users/shishirkumar/shishirkmr/Git/data_science/Quora Insincere Questions Classification/Quora-Insincere-Questions-Classification/data/train_fwf.train'"
      ]
     },
     "execution_count": 86,
     "metadata": {},
     "output_type": "execute_result"
    }
   ],
   "source": [
    "config['data_folder']+config['training_fwf_file']"
   ]
  },
  {
   "cell_type": "code",
   "execution_count": 87,
   "metadata": {},
   "outputs": [],
   "source": [
    "train_df.to_fwf(config['data_folder']+config['training_fwf_file'])"
   ]
  },
  {
   "cell_type": "code",
   "execution_count": 88,
   "metadata": {},
   "outputs": [],
   "source": [
    "train_fn = os.path.join(config['data_folder'], config['training_fwf_file'])"
   ]
  },
  {
   "cell_type": "code",
   "execution_count": 89,
   "metadata": {},
   "outputs": [],
   "source": [
    "pretrainedvec_fn = os.path.join(config['model_folder'], config['pretrained_model'])\n",
    "model_fn = os.path.join(config['data_folder'], 'models','{}_{}.bin'.format('qoura_question',config['model_version']))"
   ]
  },
  {
   "cell_type": "code",
   "execution_count": 90,
   "metadata": {},
   "outputs": [
    {
     "name": "stdout",
     "output_type": "stream",
     "text": [
      "train_fn:/Users/shishirkumar/shishirkmr/Git/data_science/Quora Insincere Questions Classification/Quora-Insincere-Questions-Classification/data/train_fwf.train \n",
      " model_fn:/Users/shishirkumar/shishirkmr/Git/data_science/Quora Insincere Questions Classification/Quora-Insincere-Questions-Classification/data/models/qoura_question_m1.bin \n",
      " pretrainedvec_fn:/Users/shishirkumar/jupyter_notebook/NLP/pretrained_models/wiki-news-300d-1M.vec\n"
     ]
    }
   ],
   "source": [
    "print('train_fn:{} \\n model_fn:{} \\n pretrainedvec_fn:{}'.format(train_fn,model_fn,pretrainedvec_fn))"
   ]
  },
  {
   "cell_type": "code",
   "execution_count": 91,
   "metadata": {},
   "outputs": [
    {
     "name": "stdout",
     "output_type": "stream",
     "text": [
      "CPU times: user 9min 23s, sys: 26.4 s, total: 9min 50s\n",
      "Wall time: 6min 11s\n"
     ]
    }
   ],
   "source": [
    "%%time\n",
    "model = fasttext.train_supervised(input=train_fn,\n",
    "                                  pretrainedVectors=pretrainedvec_fn,\n",
    "                                  dim=300, # dont change\n",
    "                                  wordNgrams=2, # dont change\n",
    "                                  minCount=3, #frequency dont change\n",
    "                                  epoch=20,\n",
    "                                  loss='ova')"
   ]
  },
  {
   "cell_type": "code",
   "execution_count": 92,
   "metadata": {},
   "outputs": [
    {
     "data": {
      "text/plain": [
       "'/Users/shishirkumar/shishirkmr/Git/data_science/Quora Insincere Questions Classification/Quora-Insincere-Questions-Classification/data/models/qoura_question_m1.bin'"
      ]
     },
     "execution_count": 92,
     "metadata": {},
     "output_type": "execute_result"
    }
   ],
   "source": [
    "model_fn"
   ]
  },
  {
   "cell_type": "code",
   "execution_count": 94,
   "metadata": {},
   "outputs": [],
   "source": [
    "model.save_model(model_fn)"
   ]
  },
  {
   "cell_type": "code",
   "execution_count": 110,
   "metadata": {},
   "outputs": [],
   "source": [
    "train_df['predict'] = train_df['question_text'].apply(lambda x: model.predict(x,k=1)[0][0])\n",
    "train_df['predict'] = train_df['predict'].apply(lambda x: int(x.replace('__label__','')))\n",
    "\n",
    "train_df['target'] = train_df['label'].apply(lambda x: int(x.replace('__label__','')))\n",
    "\n",
    "train_df['predict_proba'] = train_df['question_text'].apply(lambda x: model.predict(x,k=1)[1][0])"
   ]
  },
  {
   "cell_type": "code",
   "execution_count": 111,
   "metadata": {},
   "outputs": [
    {
     "data": {
      "text/html": [
       "<div>\n",
       "<style scoped>\n",
       "    .dataframe tbody tr th:only-of-type {\n",
       "        vertical-align: middle;\n",
       "    }\n",
       "\n",
       "    .dataframe tbody tr th {\n",
       "        vertical-align: top;\n",
       "    }\n",
       "\n",
       "    .dataframe thead th {\n",
       "        text-align: right;\n",
       "    }\n",
       "</style>\n",
       "<table border=\"1\" class=\"dataframe\">\n",
       "  <thead>\n",
       "    <tr style=\"text-align: right;\">\n",
       "      <th></th>\n",
       "      <th>label</th>\n",
       "      <th>question_text</th>\n",
       "      <th>predict</th>\n",
       "      <th>predict_proba</th>\n",
       "      <th>target</th>\n",
       "    </tr>\n",
       "  </thead>\n",
       "  <tbody>\n",
       "    <tr>\n",
       "      <th>1075204</th>\n",
       "      <td>__label__0</td>\n",
       "      <td>What were the major accomplishments by Larry F...</td>\n",
       "      <td>0</td>\n",
       "      <td>1.00001</td>\n",
       "      <td>0</td>\n",
       "    </tr>\n",
       "    <tr>\n",
       "      <th>407385</th>\n",
       "      <td>__label__0</td>\n",
       "      <td>Why should have Hitler waited to start the war</td>\n",
       "      <td>0</td>\n",
       "      <td>1.00001</td>\n",
       "      <td>0</td>\n",
       "    </tr>\n",
       "    <tr>\n",
       "      <th>944423</th>\n",
       "      <td>__label__0</td>\n",
       "      <td>How does blood provide oxygen to the body</td>\n",
       "      <td>0</td>\n",
       "      <td>1.00001</td>\n",
       "      <td>0</td>\n",
       "    </tr>\n",
       "    <tr>\n",
       "      <th>271094</th>\n",
       "      <td>__label__0</td>\n",
       "      <td>Are the Microsoft Virtual Academy certificates...</td>\n",
       "      <td>0</td>\n",
       "      <td>1.00001</td>\n",
       "      <td>0</td>\n",
       "    </tr>\n",
       "    <tr>\n",
       "      <th>1156712</th>\n",
       "      <td>__label__0</td>\n",
       "      <td>Why I always postpone important work to anothe...</td>\n",
       "      <td>0</td>\n",
       "      <td>1.00001</td>\n",
       "      <td>0</td>\n",
       "    </tr>\n",
       "  </tbody>\n",
       "</table>\n",
       "</div>"
      ],
      "text/plain": [
       "              label                                      question_text  \\\n",
       "1075204  __label__0  What were the major accomplishments by Larry F...   \n",
       "407385   __label__0     Why should have Hitler waited to start the war   \n",
       "944423   __label__0          How does blood provide oxygen to the body   \n",
       "271094   __label__0  Are the Microsoft Virtual Academy certificates...   \n",
       "1156712  __label__0  Why I always postpone important work to anothe...   \n",
       "\n",
       "         predict  predict_proba  target  \n",
       "1075204        0        1.00001       0  \n",
       "407385         0        1.00001       0  \n",
       "944423         0        1.00001       0  \n",
       "271094         0        1.00001       0  \n",
       "1156712        0        1.00001       0  "
      ]
     },
     "execution_count": 111,
     "metadata": {},
     "output_type": "execute_result"
    }
   ],
   "source": [
    "train_df.head()"
   ]
  },
  {
   "cell_type": "code",
   "execution_count": 112,
   "metadata": {},
   "outputs": [
    {
     "data": {
      "text/plain": [
       "array([[1041482,     113],\n",
       "       [    162,   68446]])"
      ]
     },
     "execution_count": 112,
     "metadata": {},
     "output_type": "execute_result"
    }
   ],
   "source": [
    "# from sklearn.metrics import confusion_matrix\n",
    "confusion_matrix(train_df['target'],train_df['predict'])"
   ]
  },
  {
   "cell_type": "code",
   "execution_count": 113,
   "metadata": {},
   "outputs": [
    {
     "name": "stderr",
     "output_type": "stream",
     "text": [
      "/Library/Frameworks/Python.framework/Versions/3.7/lib/python3.7/site-packages/ipykernel_launcher.py:1: SettingWithCopyWarning: \n",
      "A value is trying to be set on a copy of a slice from a DataFrame.\n",
      "Try using .loc[row_indexer,col_indexer] = value instead\n",
      "\n",
      "See the caveats in the documentation: https://pandas.pydata.org/pandas-docs/stable/user_guide/indexing.html#returning-a-view-versus-a-copy\n",
      "  \"\"\"Entry point for launching an IPython kernel.\n",
      "/Library/Frameworks/Python.framework/Versions/3.7/lib/python3.7/site-packages/ipykernel_launcher.py:2: SettingWithCopyWarning: \n",
      "A value is trying to be set on a copy of a slice from a DataFrame.\n",
      "Try using .loc[row_indexer,col_indexer] = value instead\n",
      "\n",
      "See the caveats in the documentation: https://pandas.pydata.org/pandas-docs/stable/user_guide/indexing.html#returning-a-view-versus-a-copy\n",
      "  \n",
      "/Library/Frameworks/Python.framework/Versions/3.7/lib/python3.7/site-packages/ipykernel_launcher.py:3: SettingWithCopyWarning: \n",
      "A value is trying to be set on a copy of a slice from a DataFrame.\n",
      "Try using .loc[row_indexer,col_indexer] = value instead\n",
      "\n",
      "See the caveats in the documentation: https://pandas.pydata.org/pandas-docs/stable/user_guide/indexing.html#returning-a-view-versus-a-copy\n",
      "  This is separate from the ipykernel package so we can avoid doing imports until\n"
     ]
    }
   ],
   "source": [
    "test_df['predict'] = test_df['question_text'].apply(lambda x: model.predict(x,k=1)[0][0])\n",
    "test_df['predict'] = test_df['predict'].apply(lambda x: int(x.replace('__label__','')))\n",
    "test_df['predict_proba'] = test_df['question_text'].apply(lambda x: model.predict(x,k=1)[1][0])"
   ]
  },
  {
   "cell_type": "code",
   "execution_count": 114,
   "metadata": {},
   "outputs": [
    {
     "data": {
      "text/html": [
       "<div>\n",
       "<style scoped>\n",
       "    .dataframe tbody tr th:only-of-type {\n",
       "        vertical-align: middle;\n",
       "    }\n",
       "\n",
       "    .dataframe tbody tr th {\n",
       "        vertical-align: top;\n",
       "    }\n",
       "\n",
       "    .dataframe thead th {\n",
       "        text-align: right;\n",
       "    }\n",
       "</style>\n",
       "<table border=\"1\" class=\"dataframe\">\n",
       "  <thead>\n",
       "    <tr style=\"text-align: right;\">\n",
       "      <th></th>\n",
       "      <th>qid</th>\n",
       "      <th>question_text</th>\n",
       "      <th>target</th>\n",
       "      <th>label</th>\n",
       "      <th>result</th>\n",
       "      <th>predict</th>\n",
       "      <th>predict_proba</th>\n",
       "    </tr>\n",
       "  </thead>\n",
       "  <tbody>\n",
       "    <tr>\n",
       "      <th>793006</th>\n",
       "      <td>9b62f614df89ffd929e7</td>\n",
       "      <td>What is the best website to browse and order b...</td>\n",
       "      <td>0</td>\n",
       "      <td>__label__0</td>\n",
       "      <td>{'__label__0': 1.0000100135803223}</td>\n",
       "      <td>0</td>\n",
       "      <td>1.000010</td>\n",
       "    </tr>\n",
       "    <tr>\n",
       "      <th>967175</th>\n",
       "      <td>bd7d802f7d005efb9546</td>\n",
       "      <td>Is it possible for an Android Xiaomi phone to ...</td>\n",
       "      <td>0</td>\n",
       "      <td>__label__0</td>\n",
       "      <td>{'__label__0': 1.0000100135803223}</td>\n",
       "      <td>0</td>\n",
       "      <td>1.000010</td>\n",
       "    </tr>\n",
       "    <tr>\n",
       "      <th>133728</th>\n",
       "      <td>1a2bdd15d1c9b1ea7af1</td>\n",
       "      <td>Where can I get my Moto E4 plus rooted in Mumbai</td>\n",
       "      <td>0</td>\n",
       "      <td>__label__0</td>\n",
       "      <td>{'__label__0': 1.0000100135803223}</td>\n",
       "      <td>0</td>\n",
       "      <td>1.000010</td>\n",
       "    </tr>\n",
       "    <tr>\n",
       "      <th>981324</th>\n",
       "      <td>c03dd81b3e6f0d806649</td>\n",
       "      <td>How do you deal with someone who is making you...</td>\n",
       "      <td>0</td>\n",
       "      <td>__label__0</td>\n",
       "      <td>{'__label__0': 0.9991540908813477}</td>\n",
       "      <td>0</td>\n",
       "      <td>0.999154</td>\n",
       "    </tr>\n",
       "    <tr>\n",
       "      <th>223722</th>\n",
       "      <td>2bc04bcabae6e449822c</td>\n",
       "      <td>Does Tinder work in Aurangabad</td>\n",
       "      <td>0</td>\n",
       "      <td>__label__0</td>\n",
       "      <td>{'__label__0': 1.0000100135803223}</td>\n",
       "      <td>0</td>\n",
       "      <td>1.000010</td>\n",
       "    </tr>\n",
       "  </tbody>\n",
       "</table>\n",
       "</div>"
      ],
      "text/plain": [
       "                         qid  \\\n",
       "793006  9b62f614df89ffd929e7   \n",
       "967175  bd7d802f7d005efb9546   \n",
       "133728  1a2bdd15d1c9b1ea7af1   \n",
       "981324  c03dd81b3e6f0d806649   \n",
       "223722  2bc04bcabae6e449822c   \n",
       "\n",
       "                                            question_text  target       label  \\\n",
       "793006  What is the best website to browse and order b...       0  __label__0   \n",
       "967175  Is it possible for an Android Xiaomi phone to ...       0  __label__0   \n",
       "133728   Where can I get my Moto E4 plus rooted in Mumbai       0  __label__0   \n",
       "981324  How do you deal with someone who is making you...       0  __label__0   \n",
       "223722                     Does Tinder work in Aurangabad       0  __label__0   \n",
       "\n",
       "                                    result  predict  predict_proba  \n",
       "793006  {'__label__0': 1.0000100135803223}        0       1.000010  \n",
       "967175  {'__label__0': 1.0000100135803223}        0       1.000010  \n",
       "133728  {'__label__0': 1.0000100135803223}        0       1.000010  \n",
       "981324  {'__label__0': 0.9991540908813477}        0       0.999154  \n",
       "223722  {'__label__0': 1.0000100135803223}        0       1.000010  "
      ]
     },
     "execution_count": 114,
     "metadata": {},
     "output_type": "execute_result"
    }
   ],
   "source": [
    "test_df.head()"
   ]
  },
  {
   "cell_type": "code",
   "execution_count": 115,
   "metadata": {},
   "outputs": [
    {
     "data": {
      "text/plain": [
       "array([[179867,   3850],\n",
       "       [  5952,   6250]])"
      ]
     },
     "execution_count": 115,
     "metadata": {},
     "output_type": "execute_result"
    }
   ],
   "source": [
    "from sklearn.metrics import confusion_matrix\n",
    "confusion_matrix(test_df['target'],test_df['predict'])"
   ]
  },
  {
   "cell_type": "code",
   "execution_count": null,
   "metadata": {},
   "outputs": [],
   "source": []
  }
 ],
 "metadata": {
  "kernelspec": {
   "display_name": "Python 3",
   "language": "python",
   "name": "python3"
  },
  "language_info": {
   "codemirror_mode": {
    "name": "ipython",
    "version": 3
   },
   "file_extension": ".py",
   "mimetype": "text/x-python",
   "name": "python",
   "nbconvert_exporter": "python",
   "pygments_lexer": "ipython3",
   "version": "3.7.3"
  }
 },
 "nbformat": 4,
 "nbformat_minor": 4
}

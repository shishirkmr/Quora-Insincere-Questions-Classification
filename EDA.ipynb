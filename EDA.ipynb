{
 "cells": [
  {
   "cell_type": "markdown",
   "metadata": {},
   "source": [
    "# Import packages"
   ]
  },
  {
   "cell_type": "code",
   "execution_count": 39,
   "metadata": {},
   "outputs": [],
   "source": [
    "import pandas as pd\n",
    "import numpy as np\n",
    "import os\n",
    "\n",
    "# fastext\n",
    "import fasttext\n",
    "\n",
    "from text_cleaning_utils import TextCleaningUtils\n",
    "from sklearn.model_selection import train_test_split\n",
    "from fast_text import FastTextUtils\n",
    "\n",
    "from tabulate import tabulate\n",
    "\n",
    "from sklearn.metrics import confusion_matrix\n",
    "from sklearn.metrics import classification_report"
   ]
  },
  {
   "cell_type": "code",
   "execution_count": 2,
   "metadata": {},
   "outputs": [],
   "source": [
    "df = pd.read_csv('./data/train.csv')"
   ]
  },
  {
   "cell_type": "code",
   "execution_count": 3,
   "metadata": {},
   "outputs": [
    {
     "data": {
      "text/html": [
       "<div>\n",
       "<style scoped>\n",
       "    .dataframe tbody tr th:only-of-type {\n",
       "        vertical-align: middle;\n",
       "    }\n",
       "\n",
       "    .dataframe tbody tr th {\n",
       "        vertical-align: top;\n",
       "    }\n",
       "\n",
       "    .dataframe thead th {\n",
       "        text-align: right;\n",
       "    }\n",
       "</style>\n",
       "<table border=\"1\" class=\"dataframe\">\n",
       "  <thead>\n",
       "    <tr style=\"text-align: right;\">\n",
       "      <th></th>\n",
       "      <th>qid</th>\n",
       "      <th>question_text</th>\n",
       "      <th>target</th>\n",
       "    </tr>\n",
       "  </thead>\n",
       "  <tbody>\n",
       "    <tr>\n",
       "      <th>0</th>\n",
       "      <td>00002165364db923c7e6</td>\n",
       "      <td>How did Quebec nationalists see their province...</td>\n",
       "      <td>0</td>\n",
       "    </tr>\n",
       "    <tr>\n",
       "      <th>1</th>\n",
       "      <td>000032939017120e6e44</td>\n",
       "      <td>Do you have an adopted dog, how would you enco...</td>\n",
       "      <td>0</td>\n",
       "    </tr>\n",
       "    <tr>\n",
       "      <th>2</th>\n",
       "      <td>0000412ca6e4628ce2cf</td>\n",
       "      <td>Why does velocity affect time? Does velocity a...</td>\n",
       "      <td>0</td>\n",
       "    </tr>\n",
       "    <tr>\n",
       "      <th>3</th>\n",
       "      <td>000042bf85aa498cd78e</td>\n",
       "      <td>How did Otto von Guericke used the Magdeburg h...</td>\n",
       "      <td>0</td>\n",
       "    </tr>\n",
       "    <tr>\n",
       "      <th>4</th>\n",
       "      <td>0000455dfa3e01eae3af</td>\n",
       "      <td>Can I convert montra helicon D to a mountain b...</td>\n",
       "      <td>0</td>\n",
       "    </tr>\n",
       "  </tbody>\n",
       "</table>\n",
       "</div>"
      ],
      "text/plain": [
       "                    qid                                      question_text  \\\n",
       "0  00002165364db923c7e6  How did Quebec nationalists see their province...   \n",
       "1  000032939017120e6e44  Do you have an adopted dog, how would you enco...   \n",
       "2  0000412ca6e4628ce2cf  Why does velocity affect time? Does velocity a...   \n",
       "3  000042bf85aa498cd78e  How did Otto von Guericke used the Magdeburg h...   \n",
       "4  0000455dfa3e01eae3af  Can I convert montra helicon D to a mountain b...   \n",
       "\n",
       "   target  \n",
       "0       0  \n",
       "1       0  \n",
       "2       0  \n",
       "3       0  \n",
       "4       0  "
      ]
     },
     "execution_count": 3,
     "metadata": {},
     "output_type": "execute_result"
    }
   ],
   "source": [
    "df.head()"
   ]
  },
  {
   "cell_type": "code",
   "execution_count": 4,
   "metadata": {},
   "outputs": [
    {
     "data": {
      "text/html": [
       "<div>\n",
       "<style scoped>\n",
       "    .dataframe tbody tr th:only-of-type {\n",
       "        vertical-align: middle;\n",
       "    }\n",
       "\n",
       "    .dataframe tbody tr th {\n",
       "        vertical-align: top;\n",
       "    }\n",
       "\n",
       "    .dataframe thead th {\n",
       "        text-align: right;\n",
       "    }\n",
       "</style>\n",
       "<table border=\"1\" class=\"dataframe\">\n",
       "  <thead>\n",
       "    <tr style=\"text-align: right;\">\n",
       "      <th></th>\n",
       "      <th>qid</th>\n",
       "      <th>question_text</th>\n",
       "      <th>target</th>\n",
       "    </tr>\n",
       "  </thead>\n",
       "  <tbody>\n",
       "    <tr>\n",
       "      <th>22</th>\n",
       "      <td>0000e91571b60c2fb487</td>\n",
       "      <td>Has the United States become the largest dicta...</td>\n",
       "      <td>1</td>\n",
       "    </tr>\n",
       "    <tr>\n",
       "      <th>30</th>\n",
       "      <td>00013ceca3f624b09f42</td>\n",
       "      <td>Which babies are more sweeter to their parents...</td>\n",
       "      <td>1</td>\n",
       "    </tr>\n",
       "    <tr>\n",
       "      <th>110</th>\n",
       "      <td>0004a7fcb2bf73076489</td>\n",
       "      <td>If blacks support school choice and mandatory ...</td>\n",
       "      <td>1</td>\n",
       "    </tr>\n",
       "    <tr>\n",
       "      <th>114</th>\n",
       "      <td>00052793eaa287aff1e1</td>\n",
       "      <td>I am gay boy and I love my cousin (boy). He is...</td>\n",
       "      <td>1</td>\n",
       "    </tr>\n",
       "    <tr>\n",
       "      <th>115</th>\n",
       "      <td>000537213b01fd77b58a</td>\n",
       "      <td>Which races have the smallest penis?</td>\n",
       "      <td>1</td>\n",
       "    </tr>\n",
       "  </tbody>\n",
       "</table>\n",
       "</div>"
      ],
      "text/plain": [
       "                      qid                                      question_text  \\\n",
       "22   0000e91571b60c2fb487  Has the United States become the largest dicta...   \n",
       "30   00013ceca3f624b09f42  Which babies are more sweeter to their parents...   \n",
       "110  0004a7fcb2bf73076489  If blacks support school choice and mandatory ...   \n",
       "114  00052793eaa287aff1e1  I am gay boy and I love my cousin (boy). He is...   \n",
       "115  000537213b01fd77b58a               Which races have the smallest penis?   \n",
       "\n",
       "     target  \n",
       "22        1  \n",
       "30        1  \n",
       "110       1  \n",
       "114       1  \n",
       "115       1  "
      ]
     },
     "execution_count": 4,
     "metadata": {},
     "output_type": "execute_result"
    }
   ],
   "source": [
    "df[df['target'] == 1].head()"
   ]
  },
  {
   "cell_type": "code",
   "execution_count": 5,
   "metadata": {},
   "outputs": [
    {
     "data": {
      "text/plain": [
       "(1306122, 3)"
      ]
     },
     "execution_count": 5,
     "metadata": {},
     "output_type": "execute_result"
    }
   ],
   "source": [
    "df.shape"
   ]
  },
  {
   "cell_type": "markdown",
   "metadata": {},
   "source": [
    "# Text Cleaning"
   ]
  },
  {
   "cell_type": "code",
   "execution_count": 6,
   "metadata": {},
   "outputs": [],
   "source": [
    "def clean_data(df,col_to_clean):\n",
    "  df[col_to_clean] = df[col_to_clean].apply(TextCleaningUtils.replace_contractions)\n",
    "#   Remove Smiles and special chars\n",
    "#   df[col_to_clean] = df[col_to_clean].apply(TextCleaningUtils.transform_emojis)\n",
    "  df[col_to_clean] = df[col_to_clean].apply(TextCleaningUtils.remove_special_chars)\n",
    "  df[col_to_clean] = df[col_to_clean].apply(TextCleaningUtils.remove_redundant_spaces)\n",
    "  df[col_to_clean] = df[col_to_clean].apply(TextCleaningUtils.remove_punctuations)\n",
    "  df[col_to_clean] = df[col_to_clean].apply(TextCleaningUtils.remove_exaggerated_words)\n",
    "  df[col_to_clean] = df[col_to_clean].apply(TextCleaningUtils.remove_redundant_newlines)\n",
    "  df[col_to_clean] = df[col_to_clean].apply(TextCleaningUtils.remove_twitter_handles)\n",
    "  df[col_to_clean] = df[col_to_clean].apply(TextCleaningUtils.remove_web_links)\n",
    "#   df[col_to_clean] = df[col_to_clean].apply(TextCleaningUtils.replace_sign)\n",
    "  df[col_to_clean] = df[col_to_clean].astype(str)\n",
    "  df[col_to_clean] = df[col_to_clean].str.lower()\n",
    "  return df"
   ]
  },
  {
   "cell_type": "code",
   "execution_count": 7,
   "metadata": {},
   "outputs": [],
   "source": [
    "clean_df = clean_data(df,'question_text')"
   ]
  },
  {
   "cell_type": "code",
   "execution_count": 8,
   "metadata": {},
   "outputs": [],
   "source": [
    "clean_df.to_csv('./data/train_clean.csv',index=False,encoding='utf-8')"
   ]
  },
  {
   "cell_type": "code",
   "execution_count": 9,
   "metadata": {},
   "outputs": [
    {
     "data": {
      "text/plain": [
       "(1306122, 3)"
      ]
     },
     "execution_count": 9,
     "metadata": {},
     "output_type": "execute_result"
    }
   ],
   "source": [
    "clean_df.shape"
   ]
  },
  {
   "cell_type": "code",
   "execution_count": 10,
   "metadata": {},
   "outputs": [
    {
     "data": {
      "text/html": [
       "<div>\n",
       "<style scoped>\n",
       "    .dataframe tbody tr th:only-of-type {\n",
       "        vertical-align: middle;\n",
       "    }\n",
       "\n",
       "    .dataframe tbody tr th {\n",
       "        vertical-align: top;\n",
       "    }\n",
       "\n",
       "    .dataframe thead th {\n",
       "        text-align: right;\n",
       "    }\n",
       "</style>\n",
       "<table border=\"1\" class=\"dataframe\">\n",
       "  <thead>\n",
       "    <tr style=\"text-align: right;\">\n",
       "      <th></th>\n",
       "      <th>qid</th>\n",
       "      <th>question_text</th>\n",
       "      <th>target</th>\n",
       "    </tr>\n",
       "  </thead>\n",
       "  <tbody>\n",
       "    <tr>\n",
       "      <th>0</th>\n",
       "      <td>00002165364db923c7e6</td>\n",
       "      <td>how did quebec nationalists see their province...</td>\n",
       "      <td>0</td>\n",
       "    </tr>\n",
       "    <tr>\n",
       "      <th>1</th>\n",
       "      <td>000032939017120e6e44</td>\n",
       "      <td>do you have an adopted dog  how would you enco...</td>\n",
       "      <td>0</td>\n",
       "    </tr>\n",
       "    <tr>\n",
       "      <th>2</th>\n",
       "      <td>0000412ca6e4628ce2cf</td>\n",
       "      <td>why does velocity affect time  does velocity a...</td>\n",
       "      <td>0</td>\n",
       "    </tr>\n",
       "    <tr>\n",
       "      <th>3</th>\n",
       "      <td>000042bf85aa498cd78e</td>\n",
       "      <td>how did otto von guericke used the magdeburg h...</td>\n",
       "      <td>0</td>\n",
       "    </tr>\n",
       "    <tr>\n",
       "      <th>4</th>\n",
       "      <td>0000455dfa3e01eae3af</td>\n",
       "      <td>can i convert montra helicon d to a mountain b...</td>\n",
       "      <td>0</td>\n",
       "    </tr>\n",
       "  </tbody>\n",
       "</table>\n",
       "</div>"
      ],
      "text/plain": [
       "                    qid                                      question_text  \\\n",
       "0  00002165364db923c7e6  how did quebec nationalists see their province...   \n",
       "1  000032939017120e6e44  do you have an adopted dog  how would you enco...   \n",
       "2  0000412ca6e4628ce2cf  why does velocity affect time  does velocity a...   \n",
       "3  000042bf85aa498cd78e  how did otto von guericke used the magdeburg h...   \n",
       "4  0000455dfa3e01eae3af  can i convert montra helicon d to a mountain b...   \n",
       "\n",
       "   target  \n",
       "0       0  \n",
       "1       0  \n",
       "2       0  \n",
       "3       0  \n",
       "4       0  "
      ]
     },
     "execution_count": 10,
     "metadata": {},
     "output_type": "execute_result"
    }
   ],
   "source": [
    "clean_df.head()"
   ]
  },
  {
   "cell_type": "code",
   "execution_count": 11,
   "metadata": {},
   "outputs": [
    {
     "data": {
      "text/html": [
       "<div>\n",
       "<style scoped>\n",
       "    .dataframe tbody tr th:only-of-type {\n",
       "        vertical-align: middle;\n",
       "    }\n",
       "\n",
       "    .dataframe tbody tr th {\n",
       "        vertical-align: top;\n",
       "    }\n",
       "\n",
       "    .dataframe thead th {\n",
       "        text-align: right;\n",
       "    }\n",
       "</style>\n",
       "<table border=\"1\" class=\"dataframe\">\n",
       "  <thead>\n",
       "    <tr style=\"text-align: right;\">\n",
       "      <th></th>\n",
       "      <th>qid</th>\n",
       "      <th>question_text</th>\n",
       "      <th>target</th>\n",
       "    </tr>\n",
       "  </thead>\n",
       "  <tbody>\n",
       "    <tr>\n",
       "      <th>22</th>\n",
       "      <td>0000e91571b60c2fb487</td>\n",
       "      <td>has the united states become the largest dicta...</td>\n",
       "      <td>1</td>\n",
       "    </tr>\n",
       "    <tr>\n",
       "      <th>30</th>\n",
       "      <td>00013ceca3f624b09f42</td>\n",
       "      <td>which babies are more sweeter to their parents...</td>\n",
       "      <td>1</td>\n",
       "    </tr>\n",
       "    <tr>\n",
       "      <th>110</th>\n",
       "      <td>0004a7fcb2bf73076489</td>\n",
       "      <td>if blacks support school choice and mandatory ...</td>\n",
       "      <td>1</td>\n",
       "    </tr>\n",
       "    <tr>\n",
       "      <th>114</th>\n",
       "      <td>00052793eaa287aff1e1</td>\n",
       "      <td>i am gay boy and i love my cousin boy  he is s...</td>\n",
       "      <td>1</td>\n",
       "    </tr>\n",
       "    <tr>\n",
       "      <th>115</th>\n",
       "      <td>000537213b01fd77b58a</td>\n",
       "      <td>which races have the smallest penis</td>\n",
       "      <td>1</td>\n",
       "    </tr>\n",
       "  </tbody>\n",
       "</table>\n",
       "</div>"
      ],
      "text/plain": [
       "                      qid                                      question_text  \\\n",
       "22   0000e91571b60c2fb487  has the united states become the largest dicta...   \n",
       "30   00013ceca3f624b09f42  which babies are more sweeter to their parents...   \n",
       "110  0004a7fcb2bf73076489  if blacks support school choice and mandatory ...   \n",
       "114  00052793eaa287aff1e1  i am gay boy and i love my cousin boy  he is s...   \n",
       "115  000537213b01fd77b58a                which races have the smallest penis   \n",
       "\n",
       "     target  \n",
       "22        1  \n",
       "30        1  \n",
       "110       1  \n",
       "114       1  \n",
       "115       1  "
      ]
     },
     "execution_count": 11,
     "metadata": {},
     "output_type": "execute_result"
    }
   ],
   "source": [
    "clean_df[clean_df['target']== 1].head()"
   ]
  },
  {
   "cell_type": "code",
   "execution_count": 12,
   "metadata": {},
   "outputs": [],
   "source": [
    "map_={0:'__label__0',\n",
    "     1:'__label__1'}\n",
    "clean_df['label'] = clean_df['target'].map(map_)"
   ]
  },
  {
   "cell_type": "code",
   "execution_count": 13,
   "metadata": {},
   "outputs": [],
   "source": [
    "# train test split"
   ]
  },
  {
   "cell_type": "code",
   "execution_count": 16,
   "metadata": {},
   "outputs": [
    {
     "data": {
      "text/html": [
       "<div>\n",
       "<style scoped>\n",
       "    .dataframe tbody tr th:only-of-type {\n",
       "        vertical-align: middle;\n",
       "    }\n",
       "\n",
       "    .dataframe tbody tr th {\n",
       "        vertical-align: top;\n",
       "    }\n",
       "\n",
       "    .dataframe thead th {\n",
       "        text-align: right;\n",
       "    }\n",
       "</style>\n",
       "<table border=\"1\" class=\"dataframe\">\n",
       "  <thead>\n",
       "    <tr style=\"text-align: right;\">\n",
       "      <th></th>\n",
       "      <th>qid</th>\n",
       "      <th>question_text</th>\n",
       "      <th>target</th>\n",
       "      <th>label</th>\n",
       "    </tr>\n",
       "  </thead>\n",
       "  <tbody>\n",
       "    <tr>\n",
       "      <th>0</th>\n",
       "      <td>00002165364db923c7e6</td>\n",
       "      <td>how did quebec nationalists see their province...</td>\n",
       "      <td>0</td>\n",
       "      <td>__label__0</td>\n",
       "    </tr>\n",
       "    <tr>\n",
       "      <th>1</th>\n",
       "      <td>000032939017120e6e44</td>\n",
       "      <td>do you have an adopted dog  how would you enco...</td>\n",
       "      <td>0</td>\n",
       "      <td>__label__0</td>\n",
       "    </tr>\n",
       "    <tr>\n",
       "      <th>2</th>\n",
       "      <td>0000412ca6e4628ce2cf</td>\n",
       "      <td>why does velocity affect time  does velocity a...</td>\n",
       "      <td>0</td>\n",
       "      <td>__label__0</td>\n",
       "    </tr>\n",
       "    <tr>\n",
       "      <th>3</th>\n",
       "      <td>000042bf85aa498cd78e</td>\n",
       "      <td>how did otto von guericke used the magdeburg h...</td>\n",
       "      <td>0</td>\n",
       "      <td>__label__0</td>\n",
       "    </tr>\n",
       "    <tr>\n",
       "      <th>4</th>\n",
       "      <td>0000455dfa3e01eae3af</td>\n",
       "      <td>can i convert montra helicon d to a mountain b...</td>\n",
       "      <td>0</td>\n",
       "      <td>__label__0</td>\n",
       "    </tr>\n",
       "  </tbody>\n",
       "</table>\n",
       "</div>"
      ],
      "text/plain": [
       "                    qid                                      question_text  \\\n",
       "0  00002165364db923c7e6  how did quebec nationalists see their province...   \n",
       "1  000032939017120e6e44  do you have an adopted dog  how would you enco...   \n",
       "2  0000412ca6e4628ce2cf  why does velocity affect time  does velocity a...   \n",
       "3  000042bf85aa498cd78e  how did otto von guericke used the magdeburg h...   \n",
       "4  0000455dfa3e01eae3af  can i convert montra helicon d to a mountain b...   \n",
       "\n",
       "   target       label  \n",
       "0       0  __label__0  \n",
       "1       0  __label__0  \n",
       "2       0  __label__0  \n",
       "3       0  __label__0  \n",
       "4       0  __label__0  "
      ]
     },
     "execution_count": 16,
     "metadata": {},
     "output_type": "execute_result"
    }
   ],
   "source": [
    "clean_df.head()"
   ]
  },
  {
   "cell_type": "code",
   "execution_count": 17,
   "metadata": {},
   "outputs": [],
   "source": [
    "train_df, test_df = train_test_split(clean_df, random_state=50, stratify=clean_df['label'], test_size=0.1)"
   ]
  },
  {
   "cell_type": "code",
   "execution_count": 18,
   "metadata": {},
   "outputs": [
    {
     "data": {
      "text/plain": [
       "(1175509, 4)"
      ]
     },
     "execution_count": 18,
     "metadata": {},
     "output_type": "execute_result"
    }
   ],
   "source": [
    "train_df.shape"
   ]
  },
  {
   "cell_type": "code",
   "execution_count": 19,
   "metadata": {},
   "outputs": [
    {
     "data": {
      "text/plain": [
       "(130613, 4)"
      ]
     },
     "execution_count": 19,
     "metadata": {},
     "output_type": "execute_result"
    }
   ],
   "source": [
    "test_df.shape"
   ]
  },
  {
   "cell_type": "code",
   "execution_count": 20,
   "metadata": {},
   "outputs": [],
   "source": [
    "# train_df.to_csv()\n",
    "# test_df.to_csv()"
   ]
  },
  {
   "cell_type": "code",
   "execution_count": 21,
   "metadata": {},
   "outputs": [],
   "source": [
    "# analysis"
   ]
  },
  {
   "cell_type": "code",
   "execution_count": 22,
   "metadata": {},
   "outputs": [],
   "source": [
    "# convert csv to fwf format"
   ]
  },
  {
   "cell_type": "code",
   "execution_count": 23,
   "metadata": {},
   "outputs": [],
   "source": [
    "config={\n",
    "    'data_folder':'/Users/shishirkumar/shishirkmr/Git/data_science/Quora Insincere Questions Classification/Quora-Insincere-Questions-Classification/data/',\n",
    "    'training_csv_file':'train.csv',\n",
    "    'training_fwf_file':'train_fwf.train',\n",
    "    'model_folder': r'/Users/shishirkumar/jupyter_notebook/NLP/pretrained_models/',\n",
    "    'pretrained_model': 'wiki-news-300d-1M.vec',\n",
    "    'model_version': 'm1'\n",
    "}\n"
   ]
  },
  {
   "cell_type": "code",
   "execution_count": null,
   "metadata": {},
   "outputs": [],
   "source": []
  },
  {
   "cell_type": "code",
   "execution_count": 24,
   "metadata": {},
   "outputs": [],
   "source": [
    "def to_fwf(df, fname):\n",
    "    content = tabulate(df.values.tolist(), list(df.columns), tablefmt=\"plain\")\n",
    "    content = content[(content.find('\\n') + 1):]\n",
    "    open(fname, \"w\").write(content)\n",
    "pd.DataFrame.to_fwf = to_fwf"
   ]
  },
  {
   "cell_type": "code",
   "execution_count": 25,
   "metadata": {},
   "outputs": [],
   "source": [
    "train_df=train_df[['label','question_text']]"
   ]
  },
  {
   "cell_type": "code",
   "execution_count": 26,
   "metadata": {},
   "outputs": [
    {
     "data": {
      "text/html": [
       "<div>\n",
       "<style scoped>\n",
       "    .dataframe tbody tr th:only-of-type {\n",
       "        vertical-align: middle;\n",
       "    }\n",
       "\n",
       "    .dataframe tbody tr th {\n",
       "        vertical-align: top;\n",
       "    }\n",
       "\n",
       "    .dataframe thead th {\n",
       "        text-align: right;\n",
       "    }\n",
       "</style>\n",
       "<table border=\"1\" class=\"dataframe\">\n",
       "  <thead>\n",
       "    <tr style=\"text-align: right;\">\n",
       "      <th></th>\n",
       "      <th>label</th>\n",
       "      <th>question_text</th>\n",
       "    </tr>\n",
       "  </thead>\n",
       "  <tbody>\n",
       "    <tr>\n",
       "      <th>1278191</th>\n",
       "      <td>__label__0</td>\n",
       "      <td>what are the two electrodes in a conductivity ...</td>\n",
       "    </tr>\n",
       "    <tr>\n",
       "      <th>916255</th>\n",
       "      <td>__label__0</td>\n",
       "      <td>how do i figure out my marriage</td>\n",
       "    </tr>\n",
       "    <tr>\n",
       "      <th>1144328</th>\n",
       "      <td>__label__0</td>\n",
       "      <td>how do web developers collaborate between othe...</td>\n",
       "    </tr>\n",
       "    <tr>\n",
       "      <th>12107</th>\n",
       "      <td>__label__0</td>\n",
       "      <td>what rock tirumala venkateswara temple is built</td>\n",
       "    </tr>\n",
       "    <tr>\n",
       "      <th>431956</th>\n",
       "      <td>__label__0</td>\n",
       "      <td>is knowing too many people a good thing or a b...</td>\n",
       "    </tr>\n",
       "  </tbody>\n",
       "</table>\n",
       "</div>"
      ],
      "text/plain": [
       "              label                                      question_text\n",
       "1278191  __label__0  what are the two electrodes in a conductivity ...\n",
       "916255   __label__0                    how do i figure out my marriage\n",
       "1144328  __label__0  how do web developers collaborate between othe...\n",
       "12107    __label__0    what rock tirumala venkateswara temple is built\n",
       "431956   __label__0  is knowing too many people a good thing or a b..."
      ]
     },
     "execution_count": 26,
     "metadata": {},
     "output_type": "execute_result"
    }
   ],
   "source": [
    "train_df.head()"
   ]
  },
  {
   "cell_type": "code",
   "execution_count": 27,
   "metadata": {},
   "outputs": [
    {
     "data": {
      "text/plain": [
       "'/Users/shishirkumar/shishirkmr/Git/data_science/Quora Insincere Questions Classification/Quora-Insincere-Questions-Classification/data/train_fwf.train'"
      ]
     },
     "execution_count": 27,
     "metadata": {},
     "output_type": "execute_result"
    }
   ],
   "source": [
    "config['data_folder']+config['training_fwf_file']"
   ]
  },
  {
   "cell_type": "code",
   "execution_count": 28,
   "metadata": {},
   "outputs": [],
   "source": [
    "train_df.to_fwf(config['data_folder']+config['training_fwf_file'])"
   ]
  },
  {
   "cell_type": "code",
   "execution_count": 29,
   "metadata": {},
   "outputs": [],
   "source": [
    "train_fn = os.path.join(config['data_folder'], config['training_fwf_file'])"
   ]
  },
  {
   "cell_type": "code",
   "execution_count": 30,
   "metadata": {},
   "outputs": [],
   "source": [
    "pretrainedvec_fn = os.path.join(config['model_folder'], config['pretrained_model'])\n",
    "model_fn = os.path.join(config['data_folder'], 'models','{}_{}.bin'.format('qoura_question',config['model_version']))"
   ]
  },
  {
   "cell_type": "code",
   "execution_count": 31,
   "metadata": {},
   "outputs": [
    {
     "name": "stdout",
     "output_type": "stream",
     "text": [
      "train_fn:/Users/shishirkumar/shishirkmr/Git/data_science/Quora Insincere Questions Classification/Quora-Insincere-Questions-Classification/data/train_fwf.train \n",
      " model_fn:/Users/shishirkumar/shishirkmr/Git/data_science/Quora Insincere Questions Classification/Quora-Insincere-Questions-Classification/data/models/qoura_question_m1.bin \n",
      " pretrainedvec_fn:/Users/shishirkumar/jupyter_notebook/NLP/pretrained_models/wiki-news-300d-1M.vec\n"
     ]
    }
   ],
   "source": [
    "print('train_fn:{} \\n model_fn:{} \\n pretrainedvec_fn:{}'.format(train_fn,model_fn,pretrainedvec_fn))"
   ]
  },
  {
   "cell_type": "code",
   "execution_count": 32,
   "metadata": {},
   "outputs": [
    {
     "name": "stdout",
     "output_type": "stream",
     "text": [
      "CPU times: user 10min 18s, sys: 45.8 s, total: 11min 4s\n",
      "Wall time: 8min 10s\n"
     ]
    }
   ],
   "source": [
    "%%time\n",
    "model = fasttext.train_supervised(input=train_fn,\n",
    "                                  pretrainedVectors=pretrainedvec_fn,\n",
    "                                  dim=300, \n",
    "                                  wordNgrams=2, \n",
    "                                  minCount=3, \n",
    "                                  epoch=20)"
   ]
  },
  {
   "cell_type": "code",
   "execution_count": 33,
   "metadata": {},
   "outputs": [
    {
     "data": {
      "text/plain": [
       "'/Users/shishirkumar/shishirkmr/Git/data_science/Quora Insincere Questions Classification/Quora-Insincere-Questions-Classification/data/models/qoura_question_m1.bin'"
      ]
     },
     "execution_count": 33,
     "metadata": {},
     "output_type": "execute_result"
    }
   ],
   "source": [
    "model_fn"
   ]
  },
  {
   "cell_type": "code",
   "execution_count": 34,
   "metadata": {},
   "outputs": [],
   "source": [
    "model.save_model(model_fn)"
   ]
  },
  {
   "cell_type": "code",
   "execution_count": 35,
   "metadata": {},
   "outputs": [],
   "source": [
    "train_df['predict'] = train_df['question_text'].apply(lambda x: model.predict(x,k=1)[0][0])\n",
    "train_df['predict'] = train_df['predict'].apply(lambda x: int(x.replace('__label__','')))\n",
    "\n",
    "train_df['target'] = train_df['label'].apply(lambda x: int(x.replace('__label__','')))\n",
    "\n",
    "train_df['predict_proba'] = train_df['question_text'].apply(lambda x: model.predict(x,k=1)[1][0])"
   ]
  },
  {
   "cell_type": "code",
   "execution_count": 36,
   "metadata": {},
   "outputs": [
    {
     "data": {
      "text/html": [
       "<div>\n",
       "<style scoped>\n",
       "    .dataframe tbody tr th:only-of-type {\n",
       "        vertical-align: middle;\n",
       "    }\n",
       "\n",
       "    .dataframe tbody tr th {\n",
       "        vertical-align: top;\n",
       "    }\n",
       "\n",
       "    .dataframe thead th {\n",
       "        text-align: right;\n",
       "    }\n",
       "</style>\n",
       "<table border=\"1\" class=\"dataframe\">\n",
       "  <thead>\n",
       "    <tr style=\"text-align: right;\">\n",
       "      <th></th>\n",
       "      <th>label</th>\n",
       "      <th>question_text</th>\n",
       "      <th>predict</th>\n",
       "      <th>target</th>\n",
       "      <th>predict_proba</th>\n",
       "    </tr>\n",
       "  </thead>\n",
       "  <tbody>\n",
       "    <tr>\n",
       "      <th>1278191</th>\n",
       "      <td>__label__0</td>\n",
       "      <td>what are the two electrodes in a conductivity ...</td>\n",
       "      <td>0</td>\n",
       "      <td>0</td>\n",
       "      <td>1.00001</td>\n",
       "    </tr>\n",
       "    <tr>\n",
       "      <th>916255</th>\n",
       "      <td>__label__0</td>\n",
       "      <td>how do i figure out my marriage</td>\n",
       "      <td>0</td>\n",
       "      <td>0</td>\n",
       "      <td>1.00001</td>\n",
       "    </tr>\n",
       "    <tr>\n",
       "      <th>1144328</th>\n",
       "      <td>__label__0</td>\n",
       "      <td>how do web developers collaborate between othe...</td>\n",
       "      <td>0</td>\n",
       "      <td>0</td>\n",
       "      <td>1.00001</td>\n",
       "    </tr>\n",
       "    <tr>\n",
       "      <th>12107</th>\n",
       "      <td>__label__0</td>\n",
       "      <td>what rock tirumala venkateswara temple is built</td>\n",
       "      <td>0</td>\n",
       "      <td>0</td>\n",
       "      <td>1.00001</td>\n",
       "    </tr>\n",
       "    <tr>\n",
       "      <th>431956</th>\n",
       "      <td>__label__0</td>\n",
       "      <td>is knowing too many people a good thing or a b...</td>\n",
       "      <td>0</td>\n",
       "      <td>0</td>\n",
       "      <td>1.00001</td>\n",
       "    </tr>\n",
       "  </tbody>\n",
       "</table>\n",
       "</div>"
      ],
      "text/plain": [
       "              label                                      question_text  \\\n",
       "1278191  __label__0  what are the two electrodes in a conductivity ...   \n",
       "916255   __label__0                    how do i figure out my marriage   \n",
       "1144328  __label__0  how do web developers collaborate between othe...   \n",
       "12107    __label__0    what rock tirumala venkateswara temple is built   \n",
       "431956   __label__0  is knowing too many people a good thing or a b...   \n",
       "\n",
       "         predict  target  predict_proba  \n",
       "1278191        0       0        1.00001  \n",
       "916255         0       0        1.00001  \n",
       "1144328        0       0        1.00001  \n",
       "12107          0       0        1.00001  \n",
       "431956         0       0        1.00001  "
      ]
     },
     "execution_count": 36,
     "metadata": {},
     "output_type": "execute_result"
    }
   ],
   "source": [
    "train_df.head()"
   ]
  },
  {
   "cell_type": "code",
   "execution_count": 37,
   "metadata": {},
   "outputs": [
    {
     "data": {
      "text/html": [
       "<div>\n",
       "<style scoped>\n",
       "    .dataframe tbody tr th:only-of-type {\n",
       "        vertical-align: middle;\n",
       "    }\n",
       "\n",
       "    .dataframe tbody tr th {\n",
       "        vertical-align: top;\n",
       "    }\n",
       "\n",
       "    .dataframe thead th {\n",
       "        text-align: right;\n",
       "    }\n",
       "</style>\n",
       "<table border=\"1\" class=\"dataframe\">\n",
       "  <thead>\n",
       "    <tr style=\"text-align: right;\">\n",
       "      <th></th>\n",
       "      <th>label</th>\n",
       "      <th>question_text</th>\n",
       "      <th>predict</th>\n",
       "      <th>target</th>\n",
       "      <th>predict_proba</th>\n",
       "    </tr>\n",
       "  </thead>\n",
       "  <tbody>\n",
       "    <tr>\n",
       "      <th>110399</th>\n",
       "      <td>__label__1</td>\n",
       "      <td>i am 13 and in love with a gay 30 year old ent...</td>\n",
       "      <td>1</td>\n",
       "      <td>1</td>\n",
       "      <td>0.979046</td>\n",
       "    </tr>\n",
       "    <tr>\n",
       "      <th>489651</th>\n",
       "      <td>__label__1</td>\n",
       "      <td>what do white women who have black biracial ch...</td>\n",
       "      <td>1</td>\n",
       "      <td>1</td>\n",
       "      <td>0.998841</td>\n",
       "    </tr>\n",
       "    <tr>\n",
       "      <th>932411</th>\n",
       "      <td>__label__1</td>\n",
       "      <td>if your direct superiors are cunts and everyon...</td>\n",
       "      <td>1</td>\n",
       "      <td>1</td>\n",
       "      <td>1.000010</td>\n",
       "    </tr>\n",
       "    <tr>\n",
       "      <th>543656</th>\n",
       "      <td>__label__1</td>\n",
       "      <td>why do indonesian bureaucratics pretend as if ...</td>\n",
       "      <td>1</td>\n",
       "      <td>1</td>\n",
       "      <td>1.000010</td>\n",
       "    </tr>\n",
       "    <tr>\n",
       "      <th>614054</th>\n",
       "      <td>__label__1</td>\n",
       "      <td>do you honestly feel bad that fadi al batsh is...</td>\n",
       "      <td>1</td>\n",
       "      <td>1</td>\n",
       "      <td>0.957922</td>\n",
       "    </tr>\n",
       "  </tbody>\n",
       "</table>\n",
       "</div>"
      ],
      "text/plain": [
       "             label                                      question_text  \\\n",
       "110399  __label__1  i am 13 and in love with a gay 30 year old ent...   \n",
       "489651  __label__1  what do white women who have black biracial ch...   \n",
       "932411  __label__1  if your direct superiors are cunts and everyon...   \n",
       "543656  __label__1  why do indonesian bureaucratics pretend as if ...   \n",
       "614054  __label__1  do you honestly feel bad that fadi al batsh is...   \n",
       "\n",
       "        predict  target  predict_proba  \n",
       "110399        1       1       0.979046  \n",
       "489651        1       1       0.998841  \n",
       "932411        1       1       1.000010  \n",
       "543656        1       1       1.000010  \n",
       "614054        1       1       0.957922  "
      ]
     },
     "execution_count": 37,
     "metadata": {},
     "output_type": "execute_result"
    }
   ],
   "source": [
    "train_df[train_df['label']=='__label__1'].head()"
   ]
  },
  {
   "cell_type": "code",
   "execution_count": 40,
   "metadata": {},
   "outputs": [
    {
     "data": {
      "text/plain": [
       "array([[1102580,     200],\n",
       "       [    326,   72403]])"
      ]
     },
     "execution_count": 40,
     "metadata": {},
     "output_type": "execute_result"
    }
   ],
   "source": [
    "# from sklearn.metrics import confusion_matrix\n",
    "confusion_matrix(train_df['target'],train_df['predict'])"
   ]
  },
  {
   "cell_type": "code",
   "execution_count": 41,
   "metadata": {},
   "outputs": [
    {
     "name": "stdout",
     "output_type": "stream",
     "text": [
      "              precision    recall  f1-score   support\n",
      "\n",
      "           0       1.00      1.00      1.00   1102780\n",
      "           1       1.00      1.00      1.00     72729\n",
      "\n",
      "    accuracy                           1.00   1175509\n",
      "   macro avg       1.00      1.00      1.00   1175509\n",
      "weighted avg       1.00      1.00      1.00   1175509\n",
      "\n"
     ]
    }
   ],
   "source": [
    "print(classification_report(train_df['target'],train_df['predict']))"
   ]
  },
  {
   "cell_type": "code",
   "execution_count": 42,
   "metadata": {},
   "outputs": [
    {
     "name": "stderr",
     "output_type": "stream",
     "text": [
      "/Library/Frameworks/Python.framework/Versions/3.7/lib/python3.7/site-packages/ipykernel_launcher.py:1: SettingWithCopyWarning: \n",
      "A value is trying to be set on a copy of a slice from a DataFrame.\n",
      "Try using .loc[row_indexer,col_indexer] = value instead\n",
      "\n",
      "See the caveats in the documentation: https://pandas.pydata.org/pandas-docs/stable/user_guide/indexing.html#returning-a-view-versus-a-copy\n",
      "  \"\"\"Entry point for launching an IPython kernel.\n",
      "/Library/Frameworks/Python.framework/Versions/3.7/lib/python3.7/site-packages/ipykernel_launcher.py:2: SettingWithCopyWarning: \n",
      "A value is trying to be set on a copy of a slice from a DataFrame.\n",
      "Try using .loc[row_indexer,col_indexer] = value instead\n",
      "\n",
      "See the caveats in the documentation: https://pandas.pydata.org/pandas-docs/stable/user_guide/indexing.html#returning-a-view-versus-a-copy\n",
      "  \n",
      "/Library/Frameworks/Python.framework/Versions/3.7/lib/python3.7/site-packages/ipykernel_launcher.py:3: SettingWithCopyWarning: \n",
      "A value is trying to be set on a copy of a slice from a DataFrame.\n",
      "Try using .loc[row_indexer,col_indexer] = value instead\n",
      "\n",
      "See the caveats in the documentation: https://pandas.pydata.org/pandas-docs/stable/user_guide/indexing.html#returning-a-view-versus-a-copy\n",
      "  This is separate from the ipykernel package so we can avoid doing imports until\n"
     ]
    }
   ],
   "source": [
    "test_df['predict'] = test_df['question_text'].apply(lambda x: model.predict(x,k=1)[0][0])\n",
    "test_df['predict'] = test_df['predict'].apply(lambda x: int(x.replace('__label__','')))\n",
    "test_df['predict_proba'] = test_df['question_text'].apply(lambda x: model.predict(x,k=1)[1][0])"
   ]
  },
  {
   "cell_type": "code",
   "execution_count": 43,
   "metadata": {},
   "outputs": [
    {
     "data": {
      "text/html": [
       "<div>\n",
       "<style scoped>\n",
       "    .dataframe tbody tr th:only-of-type {\n",
       "        vertical-align: middle;\n",
       "    }\n",
       "\n",
       "    .dataframe tbody tr th {\n",
       "        vertical-align: top;\n",
       "    }\n",
       "\n",
       "    .dataframe thead th {\n",
       "        text-align: right;\n",
       "    }\n",
       "</style>\n",
       "<table border=\"1\" class=\"dataframe\">\n",
       "  <thead>\n",
       "    <tr style=\"text-align: right;\">\n",
       "      <th></th>\n",
       "      <th>qid</th>\n",
       "      <th>question_text</th>\n",
       "      <th>target</th>\n",
       "      <th>label</th>\n",
       "      <th>predict</th>\n",
       "      <th>predict_proba</th>\n",
       "    </tr>\n",
       "  </thead>\n",
       "  <tbody>\n",
       "    <tr>\n",
       "      <th>924580</th>\n",
       "      <td>b5319e7bb7604c95d91b</td>\n",
       "      <td>how do i deal with the concept of keeping face...</td>\n",
       "      <td>0</td>\n",
       "      <td>__label__0</td>\n",
       "      <td>0</td>\n",
       "      <td>1.000010</td>\n",
       "    </tr>\n",
       "    <tr>\n",
       "      <th>296391</th>\n",
       "      <td>3a078ec81646dd3d5e42</td>\n",
       "      <td>my favorite pasttime is picking up girls  list...</td>\n",
       "      <td>1</td>\n",
       "      <td>__label__1</td>\n",
       "      <td>0</td>\n",
       "      <td>0.808077</td>\n",
       "    </tr>\n",
       "    <tr>\n",
       "      <th>91343</th>\n",
       "      <td>11e50b883166438d0073</td>\n",
       "      <td>would japan participate in a second korean war</td>\n",
       "      <td>0</td>\n",
       "      <td>__label__0</td>\n",
       "      <td>0</td>\n",
       "      <td>1.000010</td>\n",
       "    </tr>\n",
       "    <tr>\n",
       "      <th>458059</th>\n",
       "      <td>59b8701b429384850ecc</td>\n",
       "      <td>did not both religions stem from babylon</td>\n",
       "      <td>0</td>\n",
       "      <td>__label__0</td>\n",
       "      <td>0</td>\n",
       "      <td>1.000010</td>\n",
       "    </tr>\n",
       "    <tr>\n",
       "      <th>418878</th>\n",
       "      <td>521776d1936d316af387</td>\n",
       "      <td>what would have happened to india if sardar pa...</td>\n",
       "      <td>0</td>\n",
       "      <td>__label__0</td>\n",
       "      <td>0</td>\n",
       "      <td>1.000010</td>\n",
       "    </tr>\n",
       "  </tbody>\n",
       "</table>\n",
       "</div>"
      ],
      "text/plain": [
       "                         qid  \\\n",
       "924580  b5319e7bb7604c95d91b   \n",
       "296391  3a078ec81646dd3d5e42   \n",
       "91343   11e50b883166438d0073   \n",
       "458059  59b8701b429384850ecc   \n",
       "418878  521776d1936d316af387   \n",
       "\n",
       "                                            question_text  target       label  \\\n",
       "924580  how do i deal with the concept of keeping face...       0  __label__0   \n",
       "296391  my favorite pasttime is picking up girls  list...       1  __label__1   \n",
       "91343      would japan participate in a second korean war       0  __label__0   \n",
       "458059           did not both religions stem from babylon       0  __label__0   \n",
       "418878  what would have happened to india if sardar pa...       0  __label__0   \n",
       "\n",
       "        predict  predict_proba  \n",
       "924580        0       1.000010  \n",
       "296391        0       0.808077  \n",
       "91343         0       1.000010  \n",
       "458059        0       1.000010  \n",
       "418878        0       1.000010  "
      ]
     },
     "execution_count": 43,
     "metadata": {},
     "output_type": "execute_result"
    }
   ],
   "source": [
    "test_df.head()"
   ]
  },
  {
   "cell_type": "code",
   "execution_count": 44,
   "metadata": {},
   "outputs": [
    {
     "data": {
      "text/plain": [
       "array([[119836,   2696],\n",
       "       [  3919,   4162]])"
      ]
     },
     "execution_count": 44,
     "metadata": {},
     "output_type": "execute_result"
    }
   ],
   "source": [
    "from sklearn.metrics import confusion_matrix\n",
    "confusion_matrix(test_df['target'],test_df['predict'])"
   ]
  },
  {
   "cell_type": "code",
   "execution_count": 45,
   "metadata": {},
   "outputs": [
    {
     "name": "stdout",
     "output_type": "stream",
     "text": [
      "              precision    recall  f1-score   support\n",
      "\n",
      "           0       0.97      0.98      0.97    122532\n",
      "           1       0.61      0.52      0.56      8081\n",
      "\n",
      "    accuracy                           0.95    130613\n",
      "   macro avg       0.79      0.75      0.77    130613\n",
      "weighted avg       0.95      0.95      0.95    130613\n",
      "\n"
     ]
    }
   ],
   "source": [
    "from sklearn.metrics import classification_report\n",
    "print(classification_report(test_df['target'],test_df['predict']))"
   ]
  },
  {
   "cell_type": "code",
   "execution_count": null,
   "metadata": {},
   "outputs": [],
   "source": [
    "# threshold optimization"
   ]
  },
  {
   "cell_type": "code",
   "execution_count": null,
   "metadata": {},
   "outputs": [],
   "source": [
    "# cutoff_df = pd.DataFrame( columns = ['prob','accuracy','sensi','speci'])\n",
    "# from sklearn.metrics import confusion_matrix\n",
    "\n",
    "# confusion=confusion_matrix(test_df['target'],test_df['predict'])\n",
    "\n",
    "# # TP = confusion[1,1] # true positive \n",
    "# # TN = confusion[0,0] # true negatives\n",
    "# # FP = confusion[0,1] # false positives\n",
    "# # FN = confusion[1,0] # false negatives\n",
    "\n",
    "# def threshold_optimization(y,num):\n",
    "#     #pass the prediction_probability series and threshold probabilty cutoff\n",
    "#     y_bool= y.apply(lambda x: 1 if x>=num else 0)\n",
    "#     return y_bool\n",
    "\n",
    "# num = np.arange(0.8, 1, 0.002)\n",
    "# for i in num:\n",
    "#     cm1 = confusion_matrix(train_df['target'],threshold_optimization(train_df['predict_proba'],i))\n",
    "#     total1=sum(sum(cm1))\n",
    "#     accuracy = (cm1[0,0]+cm1[1,1])/total1\n",
    "    \n",
    "#     speci = cm1[0,0]/(cm1[0,0]+cm1[0,1])\n",
    "#     sensi = cm1[1,1]/(cm1[1,0]+cm1[1,1])\n",
    "#     cutoff_df.loc[i] =[ i ,accuracy,sensi,speci]\n",
    "# print(cutoff_df.head())"
   ]
  },
  {
   "cell_type": "code",
   "execution_count": null,
   "metadata": {},
   "outputs": [],
   "source": [
    "# cutoff_df.tail()"
   ]
  },
  {
   "cell_type": "code",
   "execution_count": null,
   "metadata": {},
   "outputs": [],
   "source": [
    "# import matplotlib.pyplot as plt\n",
    "# cutoff_df.plot.line(x='prob', y=['accuracy','sensi','speci'])\n",
    "# plt.show()"
   ]
  },
  {
   "cell_type": "code",
   "execution_count": null,
   "metadata": {},
   "outputs": [],
   "source": [
    "# f1_score(y_test_label, y_pred_temp)"
   ]
  },
  {
   "cell_type": "code",
   "execution_count": null,
   "metadata": {},
   "outputs": [],
   "source": [
    "# from sklearn.preprocessing import Binarizer\n",
    "# from sklearn.metrics import f1_score\n",
    "# for label in [1,0]:\n",
    "#     y_test_label = train_df['target']\n",
    "#     thresholds = np.arange(0.02, 1, 0.02)\n",
    "#     t_opt = 0\n",
    "#     score_max = 0\n",
    "#     for t in thresholds:\n",
    "#         y_pred_temp = Binarizer(t).fit_transform(train_df[label].values.reshape(-1,1)) \n",
    "#         score = f1_score(y_test_label, y_pred_temp)  # f1 score\n",
    "#         if (score > score_max) & (confusion_matrix(y_test_label, y_pred_temp)[0, 0] > 0) & (confusion_matrix(y_test_label, y_pred_temp)[1, 1] > 0):\n",
    "#             score_max = score\n",
    "#             t_opt = t\n",
    "#     print(\"Class: \", label, \"\\t Threshold: \", t_opt)"
   ]
  },
  {
   "cell_type": "code",
   "execution_count": null,
   "metadata": {},
   "outputs": [],
   "source": [
    "# import numpy as np\n",
    "# np.arange(0.02, 1, 0.02)"
   ]
  },
  {
   "cell_type": "code",
   "execution_count": null,
   "metadata": {},
   "outputs": [],
   "source": []
  }
 ],
 "metadata": {
  "kernelspec": {
   "display_name": "Python 3",
   "language": "python",
   "name": "python3"
  },
  "language_info": {
   "codemirror_mode": {
    "name": "ipython",
    "version": 3
   },
   "file_extension": ".py",
   "mimetype": "text/x-python",
   "name": "python",
   "nbconvert_exporter": "python",
   "pygments_lexer": "ipython3",
   "version": "3.7.3"
  }
 },
 "nbformat": 4,
 "nbformat_minor": 4
}
